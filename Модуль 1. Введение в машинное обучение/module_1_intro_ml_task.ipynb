{
 "nbformat": 4,
 "nbformat_minor": 0,
 "metadata": {
  "colab": {
   "provenance": []
  },
  "kernelspec": {
   "name": "python3",
   "display_name": "Python 3"
  },
  "language_info": {
   "name": "python"
  }
 },
 "cells": [
  {
   "cell_type": "markdown",
   "source": [
    "В этом домашнем задании вы будете решать задачу классификации оттоковых клиентов телекома: для каждого клиента необходимо определить, перестанет он пользоваться услугами оператора в ближайшее время или нет."
   ],
   "metadata": {
    "id": "0-tRk6fdxmB-"
   }
  },
  {
   "cell_type": "code",
   "execution_count": 296,
   "outputs": [],
   "source": [
    "# Clear all variables and functions\n",
    "# %reset -f\n",
    "\n",
    "import pandas as pd\n",
    "import numpy as np\n",
    "import seaborn as sns\n",
    "import matplotlib.pyplot as plt\n",
    "\n",
    "from sklearn.model_selection import train_test_split\n",
    "from sklearn.preprocessing import StandardScaler\n",
    "from sklearn.linear_model import LogisticRegression\n",
    "from sklearn.neighbors import KNeighborsClassifier\n",
    "from sklearn.metrics import confusion_matrix, roc_auc_score, roc_curve, accuracy_score\n",
    "import sklearn.metrics as metrics\n",
    "from sklearn.model_selection import GridSearchCV\n",
    "import pickle"
   ],
   "metadata": {
    "collapsed": false
   }
  },
  {
   "cell_type": "code",
   "execution_count": 225,
   "metadata": {
    "id": "DIjF1xlpwOMd"
   },
   "outputs": [
    {
     "data": {
      "text/plain": "  State  Account length  Area code International plan Voice mail plan  \\\n0    KS             128        415                 No             Yes   \n1    OH             107        415                 No             Yes   \n2    NJ             137        415                 No              No   \n3    OH              84        408                Yes              No   \n4    OK              75        415                Yes              No   \n\n   Number vmail messages  Total day minutes  Total day calls  \\\n0                     25              265.1              110   \n1                     26              161.6              123   \n2                      0              243.4              114   \n3                      0              299.4               71   \n4                      0              166.7              113   \n\n   Total day charge  Total eve minutes  Total eve calls  Total eve charge  \\\n0             45.07              197.4               99             16.78   \n1             27.47              195.5              103             16.62   \n2             41.38              121.2              110             10.30   \n3             50.90               61.9               88              5.26   \n4             28.34              148.3              122             12.61   \n\n   Total night minutes  Total night calls  Total night charge  \\\n0                244.7                 91               11.01   \n1                254.4                103               11.45   \n2                162.6                104                7.32   \n3                196.9                 89                8.86   \n4                186.9                121                8.41   \n\n   Total intl minutes  Total intl calls  Total intl charge  \\\n0                10.0                 3               2.70   \n1                13.7                 3               3.70   \n2                12.2                 5               3.29   \n3                 6.6                 7               1.78   \n4                10.1                 3               2.73   \n\n   Customer service calls  Churn  \n0                       1  False  \n1                       1  False  \n2                       0  False  \n3                       2  False  \n4                       3  False  ",
      "text/html": "<div>\n<style scoped>\n    .dataframe tbody tr th:only-of-type {\n        vertical-align: middle;\n    }\n\n    .dataframe tbody tr th {\n        vertical-align: top;\n    }\n\n    .dataframe thead th {\n        text-align: right;\n    }\n</style>\n<table border=\"1\" class=\"dataframe\">\n  <thead>\n    <tr style=\"text-align: right;\">\n      <th></th>\n      <th>State</th>\n      <th>Account length</th>\n      <th>Area code</th>\n      <th>International plan</th>\n      <th>Voice mail plan</th>\n      <th>Number vmail messages</th>\n      <th>Total day minutes</th>\n      <th>Total day calls</th>\n      <th>Total day charge</th>\n      <th>Total eve minutes</th>\n      <th>Total eve calls</th>\n      <th>Total eve charge</th>\n      <th>Total night minutes</th>\n      <th>Total night calls</th>\n      <th>Total night charge</th>\n      <th>Total intl minutes</th>\n      <th>Total intl calls</th>\n      <th>Total intl charge</th>\n      <th>Customer service calls</th>\n      <th>Churn</th>\n    </tr>\n  </thead>\n  <tbody>\n    <tr>\n      <th>0</th>\n      <td>KS</td>\n      <td>128</td>\n      <td>415</td>\n      <td>No</td>\n      <td>Yes</td>\n      <td>25</td>\n      <td>265.1</td>\n      <td>110</td>\n      <td>45.07</td>\n      <td>197.4</td>\n      <td>99</td>\n      <td>16.78</td>\n      <td>244.7</td>\n      <td>91</td>\n      <td>11.01</td>\n      <td>10.0</td>\n      <td>3</td>\n      <td>2.70</td>\n      <td>1</td>\n      <td>False</td>\n    </tr>\n    <tr>\n      <th>1</th>\n      <td>OH</td>\n      <td>107</td>\n      <td>415</td>\n      <td>No</td>\n      <td>Yes</td>\n      <td>26</td>\n      <td>161.6</td>\n      <td>123</td>\n      <td>27.47</td>\n      <td>195.5</td>\n      <td>103</td>\n      <td>16.62</td>\n      <td>254.4</td>\n      <td>103</td>\n      <td>11.45</td>\n      <td>13.7</td>\n      <td>3</td>\n      <td>3.70</td>\n      <td>1</td>\n      <td>False</td>\n    </tr>\n    <tr>\n      <th>2</th>\n      <td>NJ</td>\n      <td>137</td>\n      <td>415</td>\n      <td>No</td>\n      <td>No</td>\n      <td>0</td>\n      <td>243.4</td>\n      <td>114</td>\n      <td>41.38</td>\n      <td>121.2</td>\n      <td>110</td>\n      <td>10.30</td>\n      <td>162.6</td>\n      <td>104</td>\n      <td>7.32</td>\n      <td>12.2</td>\n      <td>5</td>\n      <td>3.29</td>\n      <td>0</td>\n      <td>False</td>\n    </tr>\n    <tr>\n      <th>3</th>\n      <td>OH</td>\n      <td>84</td>\n      <td>408</td>\n      <td>Yes</td>\n      <td>No</td>\n      <td>0</td>\n      <td>299.4</td>\n      <td>71</td>\n      <td>50.90</td>\n      <td>61.9</td>\n      <td>88</td>\n      <td>5.26</td>\n      <td>196.9</td>\n      <td>89</td>\n      <td>8.86</td>\n      <td>6.6</td>\n      <td>7</td>\n      <td>1.78</td>\n      <td>2</td>\n      <td>False</td>\n    </tr>\n    <tr>\n      <th>4</th>\n      <td>OK</td>\n      <td>75</td>\n      <td>415</td>\n      <td>Yes</td>\n      <td>No</td>\n      <td>0</td>\n      <td>166.7</td>\n      <td>113</td>\n      <td>28.34</td>\n      <td>148.3</td>\n      <td>122</td>\n      <td>12.61</td>\n      <td>186.9</td>\n      <td>121</td>\n      <td>8.41</td>\n      <td>10.1</td>\n      <td>3</td>\n      <td>2.73</td>\n      <td>3</td>\n      <td>False</td>\n    </tr>\n  </tbody>\n</table>\n</div>"
     },
     "execution_count": 225,
     "metadata": {},
     "output_type": "execute_result"
    }
   ],
   "source": [
    "df = pd.read_csv(\"https://raw.githubusercontent.com/evgpat/edu_stepik_first_step_in_nlp/main/datasets/telecom_churn.csv\")\n",
    "df.head()"
   ]
  },
  {
   "cell_type": "markdown",
   "source": [
    "Сделаем первичную обработку данных:\n",
    "\n",
    "1) Выбросите колонку State\n",
    "\n",
    "**Вопрос:** сколько столбцов осталось в матрице df?"
   ],
   "metadata": {
    "id": "MT5L6lWZyDkE"
   }
  },
  {
   "cell_type": "code",
   "source": [
    "df.shape"
   ],
   "metadata": {
    "id": "OwBZKnk3b8qc"
   },
   "execution_count": 226,
   "outputs": [
    {
     "data": {
      "text/plain": "(3333, 20)"
     },
     "execution_count": 226,
     "metadata": {},
     "output_type": "execute_result"
    }
   ]
  },
  {
   "cell_type": "code",
   "execution_count": 227,
   "outputs": [
    {
     "data": {
      "text/plain": "(3333, 19)"
     },
     "execution_count": 227,
     "metadata": {},
     "output_type": "execute_result"
    }
   ],
   "source": [
    "df = df.drop(columns='State')\n",
    "df.shape"
   ],
   "metadata": {
    "collapsed": false
   }
  },
  {
   "cell_type": "markdown",
   "source": [
    "Сделаем простую кодировку признаков: \n",
    "\n",
    "2) Колонку International plan закодируем следующим образом: \"Yes\" замените на 1, а \"No\" на 0."
   ],
   "metadata": {
    "id": "WeIa5cC3b_oE"
   }
  },
  {
   "cell_type": "code",
   "source": [
    "df['International plan'] = df['International plan'].map({'Yes' : 1, 'No' : 0})"
   ],
   "metadata": {
    "id": "7U6J16EVx0iy"
   },
   "execution_count": 228,
   "outputs": []
  },
  {
   "cell_type": "markdown",
   "source": [
    "Аналогичным образом закодируйте столбец Voice mail plan."
   ],
   "metadata": {
    "id": "-0ElX9hPcMGG"
   }
  },
  {
   "cell_type": "code",
   "source": [
    "df['Voice mail plan'].unique()"
   ],
   "metadata": {
    "id": "d2LssBAScPqf"
   },
   "execution_count": 229,
   "outputs": [
    {
     "data": {
      "text/plain": "array(['Yes', 'No'], dtype=object)"
     },
     "execution_count": 229,
     "metadata": {},
     "output_type": "execute_result"
    }
   ]
  },
  {
   "cell_type": "code",
   "execution_count": 230,
   "outputs": [],
   "source": [
    "df['Voice mail plan'] = df['Voice mail plan'].map({'Yes' : 1, 'No' : 0})"
   ],
   "metadata": {
    "collapsed": false
   }
  },
  {
   "cell_type": "code",
   "execution_count": 231,
   "outputs": [
    {
     "data": {
      "text/plain": "array([1, 0], dtype=int64)"
     },
     "execution_count": 231,
     "metadata": {},
     "output_type": "execute_result"
    }
   ],
   "source": [
    "df['Voice mail plan'].unique()"
   ],
   "metadata": {
    "collapsed": false
   }
  },
  {
   "cell_type": "markdown",
   "source": [
    "3) Переведем целевую переменную (Churn) в числа: True в 1, а False в 0."
   ],
   "metadata": {
    "id": "10NLyF1VcTkW"
   }
  },
  {
   "cell_type": "code",
   "source": [
    "df['Churn'] = df['Churn'].astype(int)\n",
    "df.head(20)"
   ],
   "metadata": {
    "id": "klGMs0cCcV5Z"
   },
   "execution_count": 232,
   "outputs": [
    {
     "data": {
      "text/plain": "    Account length  Area code  International plan  Voice mail plan  \\\n0              128        415                   0                1   \n1              107        415                   0                1   \n2              137        415                   0                0   \n3               84        408                   1                0   \n4               75        415                   1                0   \n5              118        510                   1                0   \n6              121        510                   0                1   \n7              147        415                   1                0   \n8              117        408                   0                0   \n9              141        415                   1                1   \n10              65        415                   0                0   \n11              74        415                   0                0   \n12             168        408                   0                0   \n13              95        510                   0                0   \n14              62        415                   0                0   \n15             161        415                   0                0   \n16              85        408                   0                1   \n17              93        510                   0                0   \n18              76        510                   0                1   \n19              73        415                   0                0   \n\n    Number vmail messages  Total day minutes  Total day calls  \\\n0                      25              265.1              110   \n1                      26              161.6              123   \n2                       0              243.4              114   \n3                       0              299.4               71   \n4                       0              166.7              113   \n5                       0              223.4               98   \n6                      24              218.2               88   \n7                       0              157.0               79   \n8                       0              184.5               97   \n9                      37              258.6               84   \n10                      0              129.1              137   \n11                      0              187.7              127   \n12                      0              128.8               96   \n13                      0              156.6               88   \n14                      0              120.7               70   \n15                      0              332.9               67   \n16                     27              196.4              139   \n17                      0              190.7              114   \n18                     33              189.7               66   \n19                      0              224.4               90   \n\n    Total day charge  Total eve minutes  Total eve calls  Total eve charge  \\\n0              45.07              197.4               99             16.78   \n1              27.47              195.5              103             16.62   \n2              41.38              121.2              110             10.30   \n3              50.90               61.9               88              5.26   \n4              28.34              148.3              122             12.61   \n5              37.98              220.6              101             18.75   \n6              37.09              348.5              108             29.62   \n7              26.69              103.1               94              8.76   \n8              31.37              351.6               80             29.89   \n9              43.96              222.0              111             18.87   \n10             21.95              228.5               83             19.42   \n11             31.91              163.4              148             13.89   \n12             21.90              104.9               71              8.92   \n13             26.62              247.6               75             21.05   \n14             20.52              307.2               76             26.11   \n15             56.59              317.8               97             27.01   \n16             33.39              280.9               90             23.88   \n17             32.42              218.2              111             18.55   \n18             32.25              212.8               65             18.09   \n19             38.15              159.5               88             13.56   \n\n    Total night minutes  Total night calls  Total night charge  \\\n0                 244.7                 91               11.01   \n1                 254.4                103               11.45   \n2                 162.6                104                7.32   \n3                 196.9                 89                8.86   \n4                 186.9                121                8.41   \n5                 203.9                118                9.18   \n6                 212.6                118                9.57   \n7                 211.8                 96                9.53   \n8                 215.8                 90                9.71   \n9                 326.4                 97               14.69   \n10                208.8                111                9.40   \n11                196.0                 94                8.82   \n12                141.1                128                6.35   \n13                192.3                115                8.65   \n14                203.0                 99                9.14   \n15                160.6                128                7.23   \n16                 89.3                 75                4.02   \n17                129.6                121                5.83   \n18                165.7                108                7.46   \n19                192.8                 74                8.68   \n\n    Total intl minutes  Total intl calls  Total intl charge  \\\n0                 10.0                 3               2.70   \n1                 13.7                 3               3.70   \n2                 12.2                 5               3.29   \n3                  6.6                 7               1.78   \n4                 10.1                 3               2.73   \n5                  6.3                 6               1.70   \n6                  7.5                 7               2.03   \n7                  7.1                 6               1.92   \n8                  8.7                 4               2.35   \n9                 11.2                 5               3.02   \n10                12.7                 6               3.43   \n11                 9.1                 5               2.46   \n12                11.2                 2               3.02   \n13                12.3                 5               3.32   \n14                13.1                 6               3.54   \n15                 5.4                 9               1.46   \n16                13.8                 4               3.73   \n17                 8.1                 3               2.19   \n18                10.0                 5               2.70   \n19                13.0                 2               3.51   \n\n    Customer service calls  Churn  \n0                        1      0  \n1                        1      0  \n2                        0      0  \n3                        2      0  \n4                        3      0  \n5                        0      0  \n6                        3      0  \n7                        0      0  \n8                        1      0  \n9                        0      0  \n10                       4      1  \n11                       0      0  \n12                       1      0  \n13                       3      0  \n14                       4      0  \n15                       4      1  \n16                       1      0  \n17                       3      0  \n18                       1      0  \n19                       1      0  ",
      "text/html": "<div>\n<style scoped>\n    .dataframe tbody tr th:only-of-type {\n        vertical-align: middle;\n    }\n\n    .dataframe tbody tr th {\n        vertical-align: top;\n    }\n\n    .dataframe thead th {\n        text-align: right;\n    }\n</style>\n<table border=\"1\" class=\"dataframe\">\n  <thead>\n    <tr style=\"text-align: right;\">\n      <th></th>\n      <th>Account length</th>\n      <th>Area code</th>\n      <th>International plan</th>\n      <th>Voice mail plan</th>\n      <th>Number vmail messages</th>\n      <th>Total day minutes</th>\n      <th>Total day calls</th>\n      <th>Total day charge</th>\n      <th>Total eve minutes</th>\n      <th>Total eve calls</th>\n      <th>Total eve charge</th>\n      <th>Total night minutes</th>\n      <th>Total night calls</th>\n      <th>Total night charge</th>\n      <th>Total intl minutes</th>\n      <th>Total intl calls</th>\n      <th>Total intl charge</th>\n      <th>Customer service calls</th>\n      <th>Churn</th>\n    </tr>\n  </thead>\n  <tbody>\n    <tr>\n      <th>0</th>\n      <td>128</td>\n      <td>415</td>\n      <td>0</td>\n      <td>1</td>\n      <td>25</td>\n      <td>265.1</td>\n      <td>110</td>\n      <td>45.07</td>\n      <td>197.4</td>\n      <td>99</td>\n      <td>16.78</td>\n      <td>244.7</td>\n      <td>91</td>\n      <td>11.01</td>\n      <td>10.0</td>\n      <td>3</td>\n      <td>2.70</td>\n      <td>1</td>\n      <td>0</td>\n    </tr>\n    <tr>\n      <th>1</th>\n      <td>107</td>\n      <td>415</td>\n      <td>0</td>\n      <td>1</td>\n      <td>26</td>\n      <td>161.6</td>\n      <td>123</td>\n      <td>27.47</td>\n      <td>195.5</td>\n      <td>103</td>\n      <td>16.62</td>\n      <td>254.4</td>\n      <td>103</td>\n      <td>11.45</td>\n      <td>13.7</td>\n      <td>3</td>\n      <td>3.70</td>\n      <td>1</td>\n      <td>0</td>\n    </tr>\n    <tr>\n      <th>2</th>\n      <td>137</td>\n      <td>415</td>\n      <td>0</td>\n      <td>0</td>\n      <td>0</td>\n      <td>243.4</td>\n      <td>114</td>\n      <td>41.38</td>\n      <td>121.2</td>\n      <td>110</td>\n      <td>10.30</td>\n      <td>162.6</td>\n      <td>104</td>\n      <td>7.32</td>\n      <td>12.2</td>\n      <td>5</td>\n      <td>3.29</td>\n      <td>0</td>\n      <td>0</td>\n    </tr>\n    <tr>\n      <th>3</th>\n      <td>84</td>\n      <td>408</td>\n      <td>1</td>\n      <td>0</td>\n      <td>0</td>\n      <td>299.4</td>\n      <td>71</td>\n      <td>50.90</td>\n      <td>61.9</td>\n      <td>88</td>\n      <td>5.26</td>\n      <td>196.9</td>\n      <td>89</td>\n      <td>8.86</td>\n      <td>6.6</td>\n      <td>7</td>\n      <td>1.78</td>\n      <td>2</td>\n      <td>0</td>\n    </tr>\n    <tr>\n      <th>4</th>\n      <td>75</td>\n      <td>415</td>\n      <td>1</td>\n      <td>0</td>\n      <td>0</td>\n      <td>166.7</td>\n      <td>113</td>\n      <td>28.34</td>\n      <td>148.3</td>\n      <td>122</td>\n      <td>12.61</td>\n      <td>186.9</td>\n      <td>121</td>\n      <td>8.41</td>\n      <td>10.1</td>\n      <td>3</td>\n      <td>2.73</td>\n      <td>3</td>\n      <td>0</td>\n    </tr>\n    <tr>\n      <th>5</th>\n      <td>118</td>\n      <td>510</td>\n      <td>1</td>\n      <td>0</td>\n      <td>0</td>\n      <td>223.4</td>\n      <td>98</td>\n      <td>37.98</td>\n      <td>220.6</td>\n      <td>101</td>\n      <td>18.75</td>\n      <td>203.9</td>\n      <td>118</td>\n      <td>9.18</td>\n      <td>6.3</td>\n      <td>6</td>\n      <td>1.70</td>\n      <td>0</td>\n      <td>0</td>\n    </tr>\n    <tr>\n      <th>6</th>\n      <td>121</td>\n      <td>510</td>\n      <td>0</td>\n      <td>1</td>\n      <td>24</td>\n      <td>218.2</td>\n      <td>88</td>\n      <td>37.09</td>\n      <td>348.5</td>\n      <td>108</td>\n      <td>29.62</td>\n      <td>212.6</td>\n      <td>118</td>\n      <td>9.57</td>\n      <td>7.5</td>\n      <td>7</td>\n      <td>2.03</td>\n      <td>3</td>\n      <td>0</td>\n    </tr>\n    <tr>\n      <th>7</th>\n      <td>147</td>\n      <td>415</td>\n      <td>1</td>\n      <td>0</td>\n      <td>0</td>\n      <td>157.0</td>\n      <td>79</td>\n      <td>26.69</td>\n      <td>103.1</td>\n      <td>94</td>\n      <td>8.76</td>\n      <td>211.8</td>\n      <td>96</td>\n      <td>9.53</td>\n      <td>7.1</td>\n      <td>6</td>\n      <td>1.92</td>\n      <td>0</td>\n      <td>0</td>\n    </tr>\n    <tr>\n      <th>8</th>\n      <td>117</td>\n      <td>408</td>\n      <td>0</td>\n      <td>0</td>\n      <td>0</td>\n      <td>184.5</td>\n      <td>97</td>\n      <td>31.37</td>\n      <td>351.6</td>\n      <td>80</td>\n      <td>29.89</td>\n      <td>215.8</td>\n      <td>90</td>\n      <td>9.71</td>\n      <td>8.7</td>\n      <td>4</td>\n      <td>2.35</td>\n      <td>1</td>\n      <td>0</td>\n    </tr>\n    <tr>\n      <th>9</th>\n      <td>141</td>\n      <td>415</td>\n      <td>1</td>\n      <td>1</td>\n      <td>37</td>\n      <td>258.6</td>\n      <td>84</td>\n      <td>43.96</td>\n      <td>222.0</td>\n      <td>111</td>\n      <td>18.87</td>\n      <td>326.4</td>\n      <td>97</td>\n      <td>14.69</td>\n      <td>11.2</td>\n      <td>5</td>\n      <td>3.02</td>\n      <td>0</td>\n      <td>0</td>\n    </tr>\n    <tr>\n      <th>10</th>\n      <td>65</td>\n      <td>415</td>\n      <td>0</td>\n      <td>0</td>\n      <td>0</td>\n      <td>129.1</td>\n      <td>137</td>\n      <td>21.95</td>\n      <td>228.5</td>\n      <td>83</td>\n      <td>19.42</td>\n      <td>208.8</td>\n      <td>111</td>\n      <td>9.40</td>\n      <td>12.7</td>\n      <td>6</td>\n      <td>3.43</td>\n      <td>4</td>\n      <td>1</td>\n    </tr>\n    <tr>\n      <th>11</th>\n      <td>74</td>\n      <td>415</td>\n      <td>0</td>\n      <td>0</td>\n      <td>0</td>\n      <td>187.7</td>\n      <td>127</td>\n      <td>31.91</td>\n      <td>163.4</td>\n      <td>148</td>\n      <td>13.89</td>\n      <td>196.0</td>\n      <td>94</td>\n      <td>8.82</td>\n      <td>9.1</td>\n      <td>5</td>\n      <td>2.46</td>\n      <td>0</td>\n      <td>0</td>\n    </tr>\n    <tr>\n      <th>12</th>\n      <td>168</td>\n      <td>408</td>\n      <td>0</td>\n      <td>0</td>\n      <td>0</td>\n      <td>128.8</td>\n      <td>96</td>\n      <td>21.90</td>\n      <td>104.9</td>\n      <td>71</td>\n      <td>8.92</td>\n      <td>141.1</td>\n      <td>128</td>\n      <td>6.35</td>\n      <td>11.2</td>\n      <td>2</td>\n      <td>3.02</td>\n      <td>1</td>\n      <td>0</td>\n    </tr>\n    <tr>\n      <th>13</th>\n      <td>95</td>\n      <td>510</td>\n      <td>0</td>\n      <td>0</td>\n      <td>0</td>\n      <td>156.6</td>\n      <td>88</td>\n      <td>26.62</td>\n      <td>247.6</td>\n      <td>75</td>\n      <td>21.05</td>\n      <td>192.3</td>\n      <td>115</td>\n      <td>8.65</td>\n      <td>12.3</td>\n      <td>5</td>\n      <td>3.32</td>\n      <td>3</td>\n      <td>0</td>\n    </tr>\n    <tr>\n      <th>14</th>\n      <td>62</td>\n      <td>415</td>\n      <td>0</td>\n      <td>0</td>\n      <td>0</td>\n      <td>120.7</td>\n      <td>70</td>\n      <td>20.52</td>\n      <td>307.2</td>\n      <td>76</td>\n      <td>26.11</td>\n      <td>203.0</td>\n      <td>99</td>\n      <td>9.14</td>\n      <td>13.1</td>\n      <td>6</td>\n      <td>3.54</td>\n      <td>4</td>\n      <td>0</td>\n    </tr>\n    <tr>\n      <th>15</th>\n      <td>161</td>\n      <td>415</td>\n      <td>0</td>\n      <td>0</td>\n      <td>0</td>\n      <td>332.9</td>\n      <td>67</td>\n      <td>56.59</td>\n      <td>317.8</td>\n      <td>97</td>\n      <td>27.01</td>\n      <td>160.6</td>\n      <td>128</td>\n      <td>7.23</td>\n      <td>5.4</td>\n      <td>9</td>\n      <td>1.46</td>\n      <td>4</td>\n      <td>1</td>\n    </tr>\n    <tr>\n      <th>16</th>\n      <td>85</td>\n      <td>408</td>\n      <td>0</td>\n      <td>1</td>\n      <td>27</td>\n      <td>196.4</td>\n      <td>139</td>\n      <td>33.39</td>\n      <td>280.9</td>\n      <td>90</td>\n      <td>23.88</td>\n      <td>89.3</td>\n      <td>75</td>\n      <td>4.02</td>\n      <td>13.8</td>\n      <td>4</td>\n      <td>3.73</td>\n      <td>1</td>\n      <td>0</td>\n    </tr>\n    <tr>\n      <th>17</th>\n      <td>93</td>\n      <td>510</td>\n      <td>0</td>\n      <td>0</td>\n      <td>0</td>\n      <td>190.7</td>\n      <td>114</td>\n      <td>32.42</td>\n      <td>218.2</td>\n      <td>111</td>\n      <td>18.55</td>\n      <td>129.6</td>\n      <td>121</td>\n      <td>5.83</td>\n      <td>8.1</td>\n      <td>3</td>\n      <td>2.19</td>\n      <td>3</td>\n      <td>0</td>\n    </tr>\n    <tr>\n      <th>18</th>\n      <td>76</td>\n      <td>510</td>\n      <td>0</td>\n      <td>1</td>\n      <td>33</td>\n      <td>189.7</td>\n      <td>66</td>\n      <td>32.25</td>\n      <td>212.8</td>\n      <td>65</td>\n      <td>18.09</td>\n      <td>165.7</td>\n      <td>108</td>\n      <td>7.46</td>\n      <td>10.0</td>\n      <td>5</td>\n      <td>2.70</td>\n      <td>1</td>\n      <td>0</td>\n    </tr>\n    <tr>\n      <th>19</th>\n      <td>73</td>\n      <td>415</td>\n      <td>0</td>\n      <td>0</td>\n      <td>0</td>\n      <td>224.4</td>\n      <td>90</td>\n      <td>38.15</td>\n      <td>159.5</td>\n      <td>88</td>\n      <td>13.56</td>\n      <td>192.8</td>\n      <td>74</td>\n      <td>8.68</td>\n      <td>13.0</td>\n      <td>2</td>\n      <td>3.51</td>\n      <td>1</td>\n      <td>0</td>\n    </tr>\n  </tbody>\n</table>\n</div>"
     },
     "execution_count": 232,
     "metadata": {},
     "output_type": "execute_result"
    }
   ]
  },
  {
   "cell_type": "markdown",
   "source": [
    "Выведите на экран первые строки измененной таблицы, чтобы проверить, что все преобразования сработали."
   ],
   "metadata": {
    "id": "N2hAu7tmy0Ps"
   }
  },
  {
   "cell_type": "code",
   "execution_count": 233,
   "outputs": [
    {
     "data": {
      "text/plain": "<pandas.io.formats.style.Styler at 0x1ac03e7bb20>",
      "text/html": "<style type=\"text/css\">\n#T_5b177_row0_col0, #T_5b177_row1_col0, #T_5b177_row2_col0, #T_5b177_row3_col0, #T_5b177_row4_col0, #T_5b177_row5_col0, #T_5b177_row6_col0, #T_5b177_row7_col0, #T_5b177_row8_col0, #T_5b177_row9_col0, #T_5b177_row10_col0, #T_5b177_row11_col0, #T_5b177_row12_col0, #T_5b177_row13_col0, #T_5b177_row14_col0, #T_5b177_row15_col0, #T_5b177_row16_col0, #T_5b177_row17_col0, #T_5b177_row18_col0 {\n  background-color: #3b4cc0;\n  color: #f1f1f1;\n}\n</style>\n<table id=\"T_5b177\">\n  <thead>\n    <tr>\n      <th class=\"blank level0\" >&nbsp;</th>\n      <th id=\"T_5b177_level0_col0\" class=\"col_heading level0 col0\" >0</th>\n    </tr>\n  </thead>\n  <tbody>\n    <tr>\n      <th id=\"T_5b177_level0_row0\" class=\"row_heading level0 row0\" >Account length</th>\n      <td id=\"T_5b177_row0_col0\" class=\"data row0 col0\" >0.000000</td>\n    </tr>\n    <tr>\n      <th id=\"T_5b177_level0_row1\" class=\"row_heading level0 row1\" >Area code</th>\n      <td id=\"T_5b177_row1_col0\" class=\"data row1 col0\" >0.000000</td>\n    </tr>\n    <tr>\n      <th id=\"T_5b177_level0_row2\" class=\"row_heading level0 row2\" >International plan</th>\n      <td id=\"T_5b177_row2_col0\" class=\"data row2 col0\" >0.000000</td>\n    </tr>\n    <tr>\n      <th id=\"T_5b177_level0_row3\" class=\"row_heading level0 row3\" >Voice mail plan</th>\n      <td id=\"T_5b177_row3_col0\" class=\"data row3 col0\" >0.000000</td>\n    </tr>\n    <tr>\n      <th id=\"T_5b177_level0_row4\" class=\"row_heading level0 row4\" >Number vmail messages</th>\n      <td id=\"T_5b177_row4_col0\" class=\"data row4 col0\" >0.000000</td>\n    </tr>\n    <tr>\n      <th id=\"T_5b177_level0_row5\" class=\"row_heading level0 row5\" >Total day minutes</th>\n      <td id=\"T_5b177_row5_col0\" class=\"data row5 col0\" >0.000000</td>\n    </tr>\n    <tr>\n      <th id=\"T_5b177_level0_row6\" class=\"row_heading level0 row6\" >Total day calls</th>\n      <td id=\"T_5b177_row6_col0\" class=\"data row6 col0\" >0.000000</td>\n    </tr>\n    <tr>\n      <th id=\"T_5b177_level0_row7\" class=\"row_heading level0 row7\" >Total day charge</th>\n      <td id=\"T_5b177_row7_col0\" class=\"data row7 col0\" >0.000000</td>\n    </tr>\n    <tr>\n      <th id=\"T_5b177_level0_row8\" class=\"row_heading level0 row8\" >Total eve minutes</th>\n      <td id=\"T_5b177_row8_col0\" class=\"data row8 col0\" >0.000000</td>\n    </tr>\n    <tr>\n      <th id=\"T_5b177_level0_row9\" class=\"row_heading level0 row9\" >Total eve calls</th>\n      <td id=\"T_5b177_row9_col0\" class=\"data row9 col0\" >0.000000</td>\n    </tr>\n    <tr>\n      <th id=\"T_5b177_level0_row10\" class=\"row_heading level0 row10\" >Total eve charge</th>\n      <td id=\"T_5b177_row10_col0\" class=\"data row10 col0\" >0.000000</td>\n    </tr>\n    <tr>\n      <th id=\"T_5b177_level0_row11\" class=\"row_heading level0 row11\" >Total night minutes</th>\n      <td id=\"T_5b177_row11_col0\" class=\"data row11 col0\" >0.000000</td>\n    </tr>\n    <tr>\n      <th id=\"T_5b177_level0_row12\" class=\"row_heading level0 row12\" >Total night calls</th>\n      <td id=\"T_5b177_row12_col0\" class=\"data row12 col0\" >0.000000</td>\n    </tr>\n    <tr>\n      <th id=\"T_5b177_level0_row13\" class=\"row_heading level0 row13\" >Total night charge</th>\n      <td id=\"T_5b177_row13_col0\" class=\"data row13 col0\" >0.000000</td>\n    </tr>\n    <tr>\n      <th id=\"T_5b177_level0_row14\" class=\"row_heading level0 row14\" >Total intl minutes</th>\n      <td id=\"T_5b177_row14_col0\" class=\"data row14 col0\" >0.000000</td>\n    </tr>\n    <tr>\n      <th id=\"T_5b177_level0_row15\" class=\"row_heading level0 row15\" >Total intl calls</th>\n      <td id=\"T_5b177_row15_col0\" class=\"data row15 col0\" >0.000000</td>\n    </tr>\n    <tr>\n      <th id=\"T_5b177_level0_row16\" class=\"row_heading level0 row16\" >Total intl charge</th>\n      <td id=\"T_5b177_row16_col0\" class=\"data row16 col0\" >0.000000</td>\n    </tr>\n    <tr>\n      <th id=\"T_5b177_level0_row17\" class=\"row_heading level0 row17\" >Customer service calls</th>\n      <td id=\"T_5b177_row17_col0\" class=\"data row17 col0\" >0.000000</td>\n    </tr>\n    <tr>\n      <th id=\"T_5b177_level0_row18\" class=\"row_heading level0 row18\" >Churn</th>\n      <td id=\"T_5b177_row18_col0\" class=\"data row18 col0\" >0.000000</td>\n    </tr>\n  </tbody>\n</table>\n"
     },
     "execution_count": 233,
     "metadata": {},
     "output_type": "execute_result"
    }
   ],
   "source": [
    "pd.DataFrame(round(df.isna().mean()*100,)).style.background_gradient('coolwarm')"
   ],
   "metadata": {
    "collapsed": false
   }
  },
  {
   "cell_type": "code",
   "source": [
    "df.head(20)"
   ],
   "metadata": {
    "id": "lG9oOv0uydW8"
   },
   "execution_count": 234,
   "outputs": [
    {
     "data": {
      "text/plain": "    Account length  Area code  International plan  Voice mail plan  \\\n0              128        415                   0                1   \n1              107        415                   0                1   \n2              137        415                   0                0   \n3               84        408                   1                0   \n4               75        415                   1                0   \n5              118        510                   1                0   \n6              121        510                   0                1   \n7              147        415                   1                0   \n8              117        408                   0                0   \n9              141        415                   1                1   \n10              65        415                   0                0   \n11              74        415                   0                0   \n12             168        408                   0                0   \n13              95        510                   0                0   \n14              62        415                   0                0   \n15             161        415                   0                0   \n16              85        408                   0                1   \n17              93        510                   0                0   \n18              76        510                   0                1   \n19              73        415                   0                0   \n\n    Number vmail messages  Total day minutes  Total day calls  \\\n0                      25              265.1              110   \n1                      26              161.6              123   \n2                       0              243.4              114   \n3                       0              299.4               71   \n4                       0              166.7              113   \n5                       0              223.4               98   \n6                      24              218.2               88   \n7                       0              157.0               79   \n8                       0              184.5               97   \n9                      37              258.6               84   \n10                      0              129.1              137   \n11                      0              187.7              127   \n12                      0              128.8               96   \n13                      0              156.6               88   \n14                      0              120.7               70   \n15                      0              332.9               67   \n16                     27              196.4              139   \n17                      0              190.7              114   \n18                     33              189.7               66   \n19                      0              224.4               90   \n\n    Total day charge  Total eve minutes  Total eve calls  Total eve charge  \\\n0              45.07              197.4               99             16.78   \n1              27.47              195.5              103             16.62   \n2              41.38              121.2              110             10.30   \n3              50.90               61.9               88              5.26   \n4              28.34              148.3              122             12.61   \n5              37.98              220.6              101             18.75   \n6              37.09              348.5              108             29.62   \n7              26.69              103.1               94              8.76   \n8              31.37              351.6               80             29.89   \n9              43.96              222.0              111             18.87   \n10             21.95              228.5               83             19.42   \n11             31.91              163.4              148             13.89   \n12             21.90              104.9               71              8.92   \n13             26.62              247.6               75             21.05   \n14             20.52              307.2               76             26.11   \n15             56.59              317.8               97             27.01   \n16             33.39              280.9               90             23.88   \n17             32.42              218.2              111             18.55   \n18             32.25              212.8               65             18.09   \n19             38.15              159.5               88             13.56   \n\n    Total night minutes  Total night calls  Total night charge  \\\n0                 244.7                 91               11.01   \n1                 254.4                103               11.45   \n2                 162.6                104                7.32   \n3                 196.9                 89                8.86   \n4                 186.9                121                8.41   \n5                 203.9                118                9.18   \n6                 212.6                118                9.57   \n7                 211.8                 96                9.53   \n8                 215.8                 90                9.71   \n9                 326.4                 97               14.69   \n10                208.8                111                9.40   \n11                196.0                 94                8.82   \n12                141.1                128                6.35   \n13                192.3                115                8.65   \n14                203.0                 99                9.14   \n15                160.6                128                7.23   \n16                 89.3                 75                4.02   \n17                129.6                121                5.83   \n18                165.7                108                7.46   \n19                192.8                 74                8.68   \n\n    Total intl minutes  Total intl calls  Total intl charge  \\\n0                 10.0                 3               2.70   \n1                 13.7                 3               3.70   \n2                 12.2                 5               3.29   \n3                  6.6                 7               1.78   \n4                 10.1                 3               2.73   \n5                  6.3                 6               1.70   \n6                  7.5                 7               2.03   \n7                  7.1                 6               1.92   \n8                  8.7                 4               2.35   \n9                 11.2                 5               3.02   \n10                12.7                 6               3.43   \n11                 9.1                 5               2.46   \n12                11.2                 2               3.02   \n13                12.3                 5               3.32   \n14                13.1                 6               3.54   \n15                 5.4                 9               1.46   \n16                13.8                 4               3.73   \n17                 8.1                 3               2.19   \n18                10.0                 5               2.70   \n19                13.0                 2               3.51   \n\n    Customer service calls  Churn  \n0                        1      0  \n1                        1      0  \n2                        0      0  \n3                        2      0  \n4                        3      0  \n5                        0      0  \n6                        3      0  \n7                        0      0  \n8                        1      0  \n9                        0      0  \n10                       4      1  \n11                       0      0  \n12                       1      0  \n13                       3      0  \n14                       4      0  \n15                       4      1  \n16                       1      0  \n17                       3      0  \n18                       1      0  \n19                       1      0  ",
      "text/html": "<div>\n<style scoped>\n    .dataframe tbody tr th:only-of-type {\n        vertical-align: middle;\n    }\n\n    .dataframe tbody tr th {\n        vertical-align: top;\n    }\n\n    .dataframe thead th {\n        text-align: right;\n    }\n</style>\n<table border=\"1\" class=\"dataframe\">\n  <thead>\n    <tr style=\"text-align: right;\">\n      <th></th>\n      <th>Account length</th>\n      <th>Area code</th>\n      <th>International plan</th>\n      <th>Voice mail plan</th>\n      <th>Number vmail messages</th>\n      <th>Total day minutes</th>\n      <th>Total day calls</th>\n      <th>Total day charge</th>\n      <th>Total eve minutes</th>\n      <th>Total eve calls</th>\n      <th>Total eve charge</th>\n      <th>Total night minutes</th>\n      <th>Total night calls</th>\n      <th>Total night charge</th>\n      <th>Total intl minutes</th>\n      <th>Total intl calls</th>\n      <th>Total intl charge</th>\n      <th>Customer service calls</th>\n      <th>Churn</th>\n    </tr>\n  </thead>\n  <tbody>\n    <tr>\n      <th>0</th>\n      <td>128</td>\n      <td>415</td>\n      <td>0</td>\n      <td>1</td>\n      <td>25</td>\n      <td>265.1</td>\n      <td>110</td>\n      <td>45.07</td>\n      <td>197.4</td>\n      <td>99</td>\n      <td>16.78</td>\n      <td>244.7</td>\n      <td>91</td>\n      <td>11.01</td>\n      <td>10.0</td>\n      <td>3</td>\n      <td>2.70</td>\n      <td>1</td>\n      <td>0</td>\n    </tr>\n    <tr>\n      <th>1</th>\n      <td>107</td>\n      <td>415</td>\n      <td>0</td>\n      <td>1</td>\n      <td>26</td>\n      <td>161.6</td>\n      <td>123</td>\n      <td>27.47</td>\n      <td>195.5</td>\n      <td>103</td>\n      <td>16.62</td>\n      <td>254.4</td>\n      <td>103</td>\n      <td>11.45</td>\n      <td>13.7</td>\n      <td>3</td>\n      <td>3.70</td>\n      <td>1</td>\n      <td>0</td>\n    </tr>\n    <tr>\n      <th>2</th>\n      <td>137</td>\n      <td>415</td>\n      <td>0</td>\n      <td>0</td>\n      <td>0</td>\n      <td>243.4</td>\n      <td>114</td>\n      <td>41.38</td>\n      <td>121.2</td>\n      <td>110</td>\n      <td>10.30</td>\n      <td>162.6</td>\n      <td>104</td>\n      <td>7.32</td>\n      <td>12.2</td>\n      <td>5</td>\n      <td>3.29</td>\n      <td>0</td>\n      <td>0</td>\n    </tr>\n    <tr>\n      <th>3</th>\n      <td>84</td>\n      <td>408</td>\n      <td>1</td>\n      <td>0</td>\n      <td>0</td>\n      <td>299.4</td>\n      <td>71</td>\n      <td>50.90</td>\n      <td>61.9</td>\n      <td>88</td>\n      <td>5.26</td>\n      <td>196.9</td>\n      <td>89</td>\n      <td>8.86</td>\n      <td>6.6</td>\n      <td>7</td>\n      <td>1.78</td>\n      <td>2</td>\n      <td>0</td>\n    </tr>\n    <tr>\n      <th>4</th>\n      <td>75</td>\n      <td>415</td>\n      <td>1</td>\n      <td>0</td>\n      <td>0</td>\n      <td>166.7</td>\n      <td>113</td>\n      <td>28.34</td>\n      <td>148.3</td>\n      <td>122</td>\n      <td>12.61</td>\n      <td>186.9</td>\n      <td>121</td>\n      <td>8.41</td>\n      <td>10.1</td>\n      <td>3</td>\n      <td>2.73</td>\n      <td>3</td>\n      <td>0</td>\n    </tr>\n    <tr>\n      <th>5</th>\n      <td>118</td>\n      <td>510</td>\n      <td>1</td>\n      <td>0</td>\n      <td>0</td>\n      <td>223.4</td>\n      <td>98</td>\n      <td>37.98</td>\n      <td>220.6</td>\n      <td>101</td>\n      <td>18.75</td>\n      <td>203.9</td>\n      <td>118</td>\n      <td>9.18</td>\n      <td>6.3</td>\n      <td>6</td>\n      <td>1.70</td>\n      <td>0</td>\n      <td>0</td>\n    </tr>\n    <tr>\n      <th>6</th>\n      <td>121</td>\n      <td>510</td>\n      <td>0</td>\n      <td>1</td>\n      <td>24</td>\n      <td>218.2</td>\n      <td>88</td>\n      <td>37.09</td>\n      <td>348.5</td>\n      <td>108</td>\n      <td>29.62</td>\n      <td>212.6</td>\n      <td>118</td>\n      <td>9.57</td>\n      <td>7.5</td>\n      <td>7</td>\n      <td>2.03</td>\n      <td>3</td>\n      <td>0</td>\n    </tr>\n    <tr>\n      <th>7</th>\n      <td>147</td>\n      <td>415</td>\n      <td>1</td>\n      <td>0</td>\n      <td>0</td>\n      <td>157.0</td>\n      <td>79</td>\n      <td>26.69</td>\n      <td>103.1</td>\n      <td>94</td>\n      <td>8.76</td>\n      <td>211.8</td>\n      <td>96</td>\n      <td>9.53</td>\n      <td>7.1</td>\n      <td>6</td>\n      <td>1.92</td>\n      <td>0</td>\n      <td>0</td>\n    </tr>\n    <tr>\n      <th>8</th>\n      <td>117</td>\n      <td>408</td>\n      <td>0</td>\n      <td>0</td>\n      <td>0</td>\n      <td>184.5</td>\n      <td>97</td>\n      <td>31.37</td>\n      <td>351.6</td>\n      <td>80</td>\n      <td>29.89</td>\n      <td>215.8</td>\n      <td>90</td>\n      <td>9.71</td>\n      <td>8.7</td>\n      <td>4</td>\n      <td>2.35</td>\n      <td>1</td>\n      <td>0</td>\n    </tr>\n    <tr>\n      <th>9</th>\n      <td>141</td>\n      <td>415</td>\n      <td>1</td>\n      <td>1</td>\n      <td>37</td>\n      <td>258.6</td>\n      <td>84</td>\n      <td>43.96</td>\n      <td>222.0</td>\n      <td>111</td>\n      <td>18.87</td>\n      <td>326.4</td>\n      <td>97</td>\n      <td>14.69</td>\n      <td>11.2</td>\n      <td>5</td>\n      <td>3.02</td>\n      <td>0</td>\n      <td>0</td>\n    </tr>\n    <tr>\n      <th>10</th>\n      <td>65</td>\n      <td>415</td>\n      <td>0</td>\n      <td>0</td>\n      <td>0</td>\n      <td>129.1</td>\n      <td>137</td>\n      <td>21.95</td>\n      <td>228.5</td>\n      <td>83</td>\n      <td>19.42</td>\n      <td>208.8</td>\n      <td>111</td>\n      <td>9.40</td>\n      <td>12.7</td>\n      <td>6</td>\n      <td>3.43</td>\n      <td>4</td>\n      <td>1</td>\n    </tr>\n    <tr>\n      <th>11</th>\n      <td>74</td>\n      <td>415</td>\n      <td>0</td>\n      <td>0</td>\n      <td>0</td>\n      <td>187.7</td>\n      <td>127</td>\n      <td>31.91</td>\n      <td>163.4</td>\n      <td>148</td>\n      <td>13.89</td>\n      <td>196.0</td>\n      <td>94</td>\n      <td>8.82</td>\n      <td>9.1</td>\n      <td>5</td>\n      <td>2.46</td>\n      <td>0</td>\n      <td>0</td>\n    </tr>\n    <tr>\n      <th>12</th>\n      <td>168</td>\n      <td>408</td>\n      <td>0</td>\n      <td>0</td>\n      <td>0</td>\n      <td>128.8</td>\n      <td>96</td>\n      <td>21.90</td>\n      <td>104.9</td>\n      <td>71</td>\n      <td>8.92</td>\n      <td>141.1</td>\n      <td>128</td>\n      <td>6.35</td>\n      <td>11.2</td>\n      <td>2</td>\n      <td>3.02</td>\n      <td>1</td>\n      <td>0</td>\n    </tr>\n    <tr>\n      <th>13</th>\n      <td>95</td>\n      <td>510</td>\n      <td>0</td>\n      <td>0</td>\n      <td>0</td>\n      <td>156.6</td>\n      <td>88</td>\n      <td>26.62</td>\n      <td>247.6</td>\n      <td>75</td>\n      <td>21.05</td>\n      <td>192.3</td>\n      <td>115</td>\n      <td>8.65</td>\n      <td>12.3</td>\n      <td>5</td>\n      <td>3.32</td>\n      <td>3</td>\n      <td>0</td>\n    </tr>\n    <tr>\n      <th>14</th>\n      <td>62</td>\n      <td>415</td>\n      <td>0</td>\n      <td>0</td>\n      <td>0</td>\n      <td>120.7</td>\n      <td>70</td>\n      <td>20.52</td>\n      <td>307.2</td>\n      <td>76</td>\n      <td>26.11</td>\n      <td>203.0</td>\n      <td>99</td>\n      <td>9.14</td>\n      <td>13.1</td>\n      <td>6</td>\n      <td>3.54</td>\n      <td>4</td>\n      <td>0</td>\n    </tr>\n    <tr>\n      <th>15</th>\n      <td>161</td>\n      <td>415</td>\n      <td>0</td>\n      <td>0</td>\n      <td>0</td>\n      <td>332.9</td>\n      <td>67</td>\n      <td>56.59</td>\n      <td>317.8</td>\n      <td>97</td>\n      <td>27.01</td>\n      <td>160.6</td>\n      <td>128</td>\n      <td>7.23</td>\n      <td>5.4</td>\n      <td>9</td>\n      <td>1.46</td>\n      <td>4</td>\n      <td>1</td>\n    </tr>\n    <tr>\n      <th>16</th>\n      <td>85</td>\n      <td>408</td>\n      <td>0</td>\n      <td>1</td>\n      <td>27</td>\n      <td>196.4</td>\n      <td>139</td>\n      <td>33.39</td>\n      <td>280.9</td>\n      <td>90</td>\n      <td>23.88</td>\n      <td>89.3</td>\n      <td>75</td>\n      <td>4.02</td>\n      <td>13.8</td>\n      <td>4</td>\n      <td>3.73</td>\n      <td>1</td>\n      <td>0</td>\n    </tr>\n    <tr>\n      <th>17</th>\n      <td>93</td>\n      <td>510</td>\n      <td>0</td>\n      <td>0</td>\n      <td>0</td>\n      <td>190.7</td>\n      <td>114</td>\n      <td>32.42</td>\n      <td>218.2</td>\n      <td>111</td>\n      <td>18.55</td>\n      <td>129.6</td>\n      <td>121</td>\n      <td>5.83</td>\n      <td>8.1</td>\n      <td>3</td>\n      <td>2.19</td>\n      <td>3</td>\n      <td>0</td>\n    </tr>\n    <tr>\n      <th>18</th>\n      <td>76</td>\n      <td>510</td>\n      <td>0</td>\n      <td>1</td>\n      <td>33</td>\n      <td>189.7</td>\n      <td>66</td>\n      <td>32.25</td>\n      <td>212.8</td>\n      <td>65</td>\n      <td>18.09</td>\n      <td>165.7</td>\n      <td>108</td>\n      <td>7.46</td>\n      <td>10.0</td>\n      <td>5</td>\n      <td>2.70</td>\n      <td>1</td>\n      <td>0</td>\n    </tr>\n    <tr>\n      <th>19</th>\n      <td>73</td>\n      <td>415</td>\n      <td>0</td>\n      <td>0</td>\n      <td>0</td>\n      <td>224.4</td>\n      <td>90</td>\n      <td>38.15</td>\n      <td>159.5</td>\n      <td>88</td>\n      <td>13.56</td>\n      <td>192.8</td>\n      <td>74</td>\n      <td>8.68</td>\n      <td>13.0</td>\n      <td>2</td>\n      <td>3.51</td>\n      <td>1</td>\n      <td>0</td>\n    </tr>\n  </tbody>\n</table>\n</div>"
     },
     "execution_count": 234,
     "metadata": {},
     "output_type": "execute_result"
    }
   ]
  },
  {
   "cell_type": "markdown",
   "source": [
    "Создайте матрицу объект-признак X и вектор с целевой переменной (Churn) y."
   ],
   "metadata": {
    "id": "6_y9azfEzBYd"
   }
  },
  {
   "cell_type": "code",
   "source": [
    "X = df.drop(columns='Churn')\n",
    "y = df[['Churn']]"
   ],
   "metadata": {
    "id": "Nd0nCW4eypLE"
   },
   "execution_count": 235,
   "outputs": []
  },
  {
   "cell_type": "markdown",
   "source": [
    "Проверьте баланс классов целевой переменной. Является ли выборка сбалансированной?\n",
    "\n",
    "**Вопрос:** сколько объектов относятся к классу 1?"
   ],
   "metadata": {
    "id": "NEvkoGWw1hFL"
   }
  },
  {
   "cell_type": "code",
   "source": [
    "df['Churn'].value_counts()"
   ],
   "metadata": {
    "id": "RpPcEOAm1keZ"
   },
   "execution_count": 236,
   "outputs": [
    {
     "data": {
      "text/plain": "0    2850\n1     483\nName: Churn, dtype: int64"
     },
     "execution_count": 236,
     "metadata": {},
     "output_type": "execute_result"
    }
   ]
  },
  {
   "cell_type": "code",
   "execution_count": 237,
   "outputs": [
    {
     "data": {
      "text/plain": "Churn\n0        2850\n1         483\ndtype: int64"
     },
     "execution_count": 237,
     "metadata": {},
     "output_type": "execute_result"
    }
   ],
   "source": [
    "y.value_counts()"
   ],
   "metadata": {
    "collapsed": false
   }
  },
  {
   "cell_type": "code",
   "execution_count": 238,
   "outputs": [
    {
     "data": {
      "text/plain": "<Figure size 640x480 with 1 Axes>",
      "image/png": "[encoded data removed]"
     },
     "metadata": {},
     "output_type": "display_data"
    }
   ],
   "source": [
    "\n",
    "y.hist(bins=100);\n",
    "sns.histplot(y, x='Churn');"
   ],
   "metadata": {
    "collapsed": false
   }
  },
  {
   "cell_type": "markdown",
   "source": [
    "### Разделим данные на тренировочную и тестовую части, размер тестовой части - 30%.\n",
    "\n",
    "It is recommended to apply feature scaling, such as using Standard Scaler, after splitting the data into training and testing sets. The reason for this is to avoid data leakage from the testing set to the training set.\n",
    "\n",
    "If you apply scaling before splitting the data, then the scaling parameters (e.g., mean and standard deviation) will be calculated based on the whole dataset, including both the training and testing sets. This means that information from the testing set will influence the training set, which can lead to overly optimistic performance estimates during model evaluation.\n",
    "\n",
    "To avoid this issue, you should first split the data into training and testing sets, and then fit the scaler on the training set only. The scaling parameters should be calculated based on the training set alone, and then applied to both the training and testing sets. This ensures that the testing set remains unseen during preprocessing, which is crucial for unbiased performance evaluation of the model.\n"
   ],
   "metadata": {
    "id": "AYFme2HyzQxL"
   }
  },
  {
   "cell_type": "code",
   "execution_count": 239,
   "outputs": [
    {
     "name": "stdout",
     "output_type": "stream",
     "text": [
      "Размер обучающей выборки: 2333\n",
      "Размер тестовой выборки: 1000\n"
     ]
    }
   ],
   "source": [
    "train_data, test_data = train_test_split(df, test_size=0.30, random_state=5)\n",
    "\n",
    "print('Размер обучающей выборки:', train_data.shape[0])\n",
    "print('Размер тестовой выборки:', test_data.shape[0])"
   ],
   "metadata": {
    "collapsed": false
   }
  },
  {
   "cell_type": "markdown",
   "source": [
    "### Теперь применим, если требуется, кодирование признаков.\n",
    "В данной задаче не требуется, поэтому продолжим выделение X_train, y_train, X_test, y_test и масштабирование признаков."
   ],
   "metadata": {
    "collapsed": false
   }
  },
  {
   "cell_type": "code",
   "execution_count": 240,
   "outputs": [
    {
     "name": "stdout",
     "output_type": "stream",
     "text": [
      "Обучающая выборка (признаки): 2333\n",
      "Обучающая выборка (таргет) 2333\n",
      "\n",
      "Тестовая выборка (признаки): 1000\n",
      "Тестовая выборка (таргет) 1000\n"
     ]
    }
   ],
   "source": [
    "X_train = train_data.drop(['Churn'], axis=1)\n",
    "y_train = train_data['Churn']\n",
    "\n",
    "X_test = test_data.drop(['Churn'], axis=1)\n",
    "y_test = test_data['Churn']\n",
    "\n",
    "print('Обучающая выборка (признаки):', X_train.shape[0])\n",
    "print('Обучающая выборка (таргет)', y_train.shape[0])\n",
    "print()\n",
    "print('Тестовая выборка (признаки):', X_test.shape[0])\n",
    "print('Тестовая выборка (таргет)', y_test.shape[0])"
   ],
   "metadata": {
    "collapsed": false
   }
  },
  {
   "cell_type": "markdown",
   "source": [
    "#### Для линейных моделей очень важно масштабирование признаков. Поэтому отмасштабируйте признаки при помощи StandardScaler, обучив метод на тренировочных данных и применив его и к трейну, и к тесту.\n",
    "\n",
    "Для восстановления DataFrame-ов из преобразованных объектов используйте код с занятия."
   ],
   "metadata": {
    "collapsed": false
   }
  },
  {
   "cell_type": "code",
   "execution_count": 241,
   "outputs": [],
   "source": [
    "# from sklearn.preprocessing import StandardScaler   # x -> (x - mean) / std\n",
    "\n",
    "ss = StandardScaler()\n",
    "ss.fit(X_train) # вычисляем mean и std\n",
    "\n",
    "X_train = pd.DataFrame(ss.transform(X_train), columns=X_train.columns) # масштабирование\n",
    "X_test = pd.DataFrame(ss.transform(X_test), columns=X_train.columns)"
   ],
   "metadata": {
    "collapsed": false
   }
  },
  {
   "cell_type": "code",
   "execution_count": 242,
   "outputs": [
    {
     "data": {
      "text/plain": "   Account length  Area code  International plan  Voice mail plan  \\\n0        1.148368   1.697608           -0.333095         1.667693   \n1       -0.224822  -0.531212           -0.333095        -0.599631   \n2       -1.573044  -0.531212           -0.333095        -0.599631   \n3        1.323138   1.697608           -0.333095         1.667693   \n4        0.449290  -0.531212           -0.333095         1.667693   \n\n   Number vmail messages  Total day minutes  Total day calls  \\\n0               1.890766           1.340584         0.326065   \n1              -0.574277           0.345897        -0.818983   \n2              -0.574277           0.298444        -0.321136   \n3               1.816068           0.260117        -0.918552   \n4               2.040163           0.712745        -0.420705   \n\n   Total day charge  Total eve minutes  Total eve calls  Total eve charge  \\\n0          1.341063           0.621197         0.510146          0.621491   \n1          0.345838           1.316220         0.258343          1.316047   \n2          0.298600          -0.314715        -0.245262         -0.314650   \n3          0.259950          -0.737258         1.718797         -0.737423   \n4          0.713009           0.358589         1.718797          0.359000   \n\n   Total night minutes  Total night calls  Total night charge  \\\n0             0.254232          -0.685950            0.252840   \n1            -0.832931           0.258378           -0.833200   \n2             0.451717          -0.528562            0.452316   \n3             0.086670          -1.367966            0.088825   \n4             0.974353          -0.371174            0.975389   \n\n   Total intl minutes  Total intl calls  Total intl charge  \\\n0            0.055529          0.610547           0.057504   \n1            0.197929         -0.199235           0.202539   \n2            0.197929          0.205656           0.202539   \n3           -0.442872         -1.413908          -0.443526   \n4           -0.798872          0.205656          -0.799521   \n\n   Customer service calls  \n0                1.073971  \n1               -0.425475  \n2                1.073971  \n3                0.324248  \n4                0.324248  ",
      "text/html": "<div>\n<style scoped>\n    .dataframe tbody tr th:only-of-type {\n        vertical-align: middle;\n    }\n\n    .dataframe tbody tr th {\n        vertical-align: top;\n    }\n\n    .dataframe thead th {\n        text-align: right;\n    }\n</style>\n<table border=\"1\" class=\"dataframe\">\n  <thead>\n    <tr style=\"text-align: right;\">\n      <th></th>\n      <th>Account length</th>\n      <th>Area code</th>\n      <th>International plan</th>\n      <th>Voice mail plan</th>\n      <th>Number vmail messages</th>\n      <th>Total day minutes</th>\n      <th>Total day calls</th>\n      <th>Total day charge</th>\n      <th>Total eve minutes</th>\n      <th>Total eve calls</th>\n      <th>Total eve charge</th>\n      <th>Total night minutes</th>\n      <th>Total night calls</th>\n      <th>Total night charge</th>\n      <th>Total intl minutes</th>\n      <th>Total intl calls</th>\n      <th>Total intl charge</th>\n      <th>Customer service calls</th>\n    </tr>\n  </thead>\n  <tbody>\n    <tr>\n      <th>0</th>\n      <td>1.148368</td>\n      <td>1.697608</td>\n      <td>-0.333095</td>\n      <td>1.667693</td>\n      <td>1.890766</td>\n      <td>1.340584</td>\n      <td>0.326065</td>\n      <td>1.341063</td>\n      <td>0.621197</td>\n      <td>0.510146</td>\n      <td>0.621491</td>\n      <td>0.254232</td>\n      <td>-0.685950</td>\n      <td>0.252840</td>\n      <td>0.055529</td>\n      <td>0.610547</td>\n      <td>0.057504</td>\n      <td>1.073971</td>\n    </tr>\n    <tr>\n      <th>1</th>\n      <td>-0.224822</td>\n      <td>-0.531212</td>\n      <td>-0.333095</td>\n      <td>-0.599631</td>\n      <td>-0.574277</td>\n      <td>0.345897</td>\n      <td>-0.818983</td>\n      <td>0.345838</td>\n      <td>1.316220</td>\n      <td>0.258343</td>\n      <td>1.316047</td>\n      <td>-0.832931</td>\n      <td>0.258378</td>\n      <td>-0.833200</td>\n      <td>0.197929</td>\n      <td>-0.199235</td>\n      <td>0.202539</td>\n      <td>-0.425475</td>\n    </tr>\n    <tr>\n      <th>2</th>\n      <td>-1.573044</td>\n      <td>-0.531212</td>\n      <td>-0.333095</td>\n      <td>-0.599631</td>\n      <td>-0.574277</td>\n      <td>0.298444</td>\n      <td>-0.321136</td>\n      <td>0.298600</td>\n      <td>-0.314715</td>\n      <td>-0.245262</td>\n      <td>-0.314650</td>\n      <td>0.451717</td>\n      <td>-0.528562</td>\n      <td>0.452316</td>\n      <td>0.197929</td>\n      <td>0.205656</td>\n      <td>0.202539</td>\n      <td>1.073971</td>\n    </tr>\n    <tr>\n      <th>3</th>\n      <td>1.323138</td>\n      <td>1.697608</td>\n      <td>-0.333095</td>\n      <td>1.667693</td>\n      <td>1.816068</td>\n      <td>0.260117</td>\n      <td>-0.918552</td>\n      <td>0.259950</td>\n      <td>-0.737258</td>\n      <td>1.718797</td>\n      <td>-0.737423</td>\n      <td>0.086670</td>\n      <td>-1.367966</td>\n      <td>0.088825</td>\n      <td>-0.442872</td>\n      <td>-1.413908</td>\n      <td>-0.443526</td>\n      <td>0.324248</td>\n    </tr>\n    <tr>\n      <th>4</th>\n      <td>0.449290</td>\n      <td>-0.531212</td>\n      <td>-0.333095</td>\n      <td>1.667693</td>\n      <td>2.040163</td>\n      <td>0.712745</td>\n      <td>-0.420705</td>\n      <td>0.713009</td>\n      <td>0.358589</td>\n      <td>1.718797</td>\n      <td>0.359000</td>\n      <td>0.974353</td>\n      <td>-0.371174</td>\n      <td>0.975389</td>\n      <td>-0.798872</td>\n      <td>0.205656</td>\n      <td>-0.799521</td>\n      <td>0.324248</td>\n    </tr>\n  </tbody>\n</table>\n</div>"
     },
     "execution_count": 242,
     "metadata": {},
     "output_type": "execute_result"
    }
   ],
   "source": [
    "X_train.head()"
   ],
   "metadata": {
    "collapsed": false
   }
  },
  {
   "cell_type": "code",
   "execution_count": 243,
   "outputs": [
    {
     "data": {
      "text/plain": "   Account length  Area code  International plan  Voice mail plan  \\\n0       -0.224822   1.697608           -0.333095        -0.599631   \n1        0.074784  -0.531212           -0.333095        -0.599631   \n2       -0.299723  -0.695441           -0.333095        -0.599631   \n3        0.574125  -0.531212           -0.333095        -0.599631   \n4       -0.699196   1.697608           -0.333095        -0.599631   \n\n   Number vmail messages  Total day minutes  Total day calls  \\\n0              -0.574277          -0.698068        -0.121997   \n1              -0.574277          -0.699893        -1.117691   \n2              -0.574277           0.256466        -0.868767   \n3              -0.574277           0.006426        -1.416399   \n4              -0.574277           1.398988        -1.018121   \n\n   Total day charge  Total eve minutes  Total eve calls  Total eve charge  \\\n0         -0.697699          -0.547706         2.172042         -0.546943   \n1         -0.699847          -0.000770         0.963390         -0.001054   \n2          0.256729          -0.770824        -0.597785         -0.769944   \n3          0.006581           0.611324         1.718797          0.612199   \n4          1.399038          -2.220106        -1.051030         -2.219453   \n\n   Total night minutes  Total night calls  Total night charge  \\\n0             0.018847           1.832259            0.017900   \n1             0.058743           0.100990            0.057796   \n2            -0.617493           1.989647           -0.615992   \n3            -0.423998          -0.476100           -0.425381   \n4            -0.942644          -2.102443           -0.944021   \n\n   Total intl minutes  Total intl calls  Total intl charge  \\\n0           -0.300472          1.015438          -0.298491   \n1            0.375929          0.205656           0.373944   \n2           -1.475273         -0.604126          -1.471957   \n3            0.625129         -1.009017           0.624460   \n4            0.126729          1.420329           0.123429   \n\n   Customer service calls  \n0                0.324248  \n1                0.324248  \n2               -1.175199  \n3               -1.175199  \n4               -1.175199  ",
      "text/html": "<div>\n<style scoped>\n    .dataframe tbody tr th:only-of-type {\n        vertical-align: middle;\n    }\n\n    .dataframe tbody tr th {\n        vertical-align: top;\n    }\n\n    .dataframe thead th {\n        text-align: right;\n    }\n</style>\n<table border=\"1\" class=\"dataframe\">\n  <thead>\n    <tr style=\"text-align: right;\">\n      <th></th>\n      <th>Account length</th>\n      <th>Area code</th>\n      <th>International plan</th>\n      <th>Voice mail plan</th>\n      <th>Number vmail messages</th>\n      <th>Total day minutes</th>\n      <th>Total day calls</th>\n      <th>Total day charge</th>\n      <th>Total eve minutes</th>\n      <th>Total eve calls</th>\n      <th>Total eve charge</th>\n      <th>Total night minutes</th>\n      <th>Total night calls</th>\n      <th>Total night charge</th>\n      <th>Total intl minutes</th>\n      <th>Total intl calls</th>\n      <th>Total intl charge</th>\n      <th>Customer service calls</th>\n    </tr>\n  </thead>\n  <tbody>\n    <tr>\n      <th>0</th>\n      <td>-0.224822</td>\n      <td>1.697608</td>\n      <td>-0.333095</td>\n      <td>-0.599631</td>\n      <td>-0.574277</td>\n      <td>-0.698068</td>\n      <td>-0.121997</td>\n      <td>-0.697699</td>\n      <td>-0.547706</td>\n      <td>2.172042</td>\n      <td>-0.546943</td>\n      <td>0.018847</td>\n      <td>1.832259</td>\n      <td>0.017900</td>\n      <td>-0.300472</td>\n      <td>1.015438</td>\n      <td>-0.298491</td>\n      <td>0.324248</td>\n    </tr>\n    <tr>\n      <th>1</th>\n      <td>0.074784</td>\n      <td>-0.531212</td>\n      <td>-0.333095</td>\n      <td>-0.599631</td>\n      <td>-0.574277</td>\n      <td>-0.699893</td>\n      <td>-1.117691</td>\n      <td>-0.699847</td>\n      <td>-0.000770</td>\n      <td>0.963390</td>\n      <td>-0.001054</td>\n      <td>0.058743</td>\n      <td>0.100990</td>\n      <td>0.057796</td>\n      <td>0.375929</td>\n      <td>0.205656</td>\n      <td>0.373944</td>\n      <td>0.324248</td>\n    </tr>\n    <tr>\n      <th>2</th>\n      <td>-0.299723</td>\n      <td>-0.695441</td>\n      <td>-0.333095</td>\n      <td>-0.599631</td>\n      <td>-0.574277</td>\n      <td>0.256466</td>\n      <td>-0.868767</td>\n      <td>0.256729</td>\n      <td>-0.770824</td>\n      <td>-0.597785</td>\n      <td>-0.769944</td>\n      <td>-0.617493</td>\n      <td>1.989647</td>\n      <td>-0.615992</td>\n      <td>-1.475273</td>\n      <td>-0.604126</td>\n      <td>-1.471957</td>\n      <td>-1.175199</td>\n    </tr>\n    <tr>\n      <th>3</th>\n      <td>0.574125</td>\n      <td>-0.531212</td>\n      <td>-0.333095</td>\n      <td>-0.599631</td>\n      <td>-0.574277</td>\n      <td>0.006426</td>\n      <td>-1.416399</td>\n      <td>0.006581</td>\n      <td>0.611324</td>\n      <td>1.718797</td>\n      <td>0.612199</td>\n      <td>-0.423998</td>\n      <td>-0.476100</td>\n      <td>-0.425381</td>\n      <td>0.625129</td>\n      <td>-1.009017</td>\n      <td>0.624460</td>\n      <td>-1.175199</td>\n    </tr>\n    <tr>\n      <th>4</th>\n      <td>-0.699196</td>\n      <td>1.697608</td>\n      <td>-0.333095</td>\n      <td>-0.599631</td>\n      <td>-0.574277</td>\n      <td>1.398988</td>\n      <td>-1.018121</td>\n      <td>1.399038</td>\n      <td>-2.220106</td>\n      <td>-1.051030</td>\n      <td>-2.219453</td>\n      <td>-0.942644</td>\n      <td>-2.102443</td>\n      <td>-0.944021</td>\n      <td>0.126729</td>\n      <td>1.420329</td>\n      <td>0.123429</td>\n      <td>-1.175199</td>\n    </tr>\n  </tbody>\n</table>\n</div>"
     },
     "execution_count": 243,
     "metadata": {},
     "output_type": "execute_result"
    }
   ],
   "source": [
    "X_test.head()"
   ],
   "metadata": {
    "collapsed": false
   }
  },
  {
   "cell_type": "markdown",
   "source": [
    "## Модели\n",
    "Обучите на тренировочных данных с параметрами по умолчанию:\n",
    "\n",
    "1) **Логистическую регрессию**\n",
    "\n",
    "2) **Метод ближайших соседей**"
   ],
   "metadata": {
    "id": "253CDINX1TmR"
   }
  },
  {
   "cell_type": "markdown",
   "source": [
    "### 1 - Logistic Regression"
   ],
   "metadata": {
    "collapsed": false
   }
  },
  {
   "cell_type": "code",
   "source": [
    "model = LogisticRegression() # объявляем модель\n",
    "\n",
    "model.fit(X_train, y_train) # обучаем модель"
   ],
   "metadata": {
    "id": "GsQW48lf1SxJ"
   },
   "execution_count": 244,
   "outputs": [
    {
     "data": {
      "text/plain": "LogisticRegression()",
      "text/html": "<style>#sk-container-id-5 {color: black;background-color: white;}#sk-container-id-5 pre{padding: 0;}#sk-container-id-5 div.sk-toggleable {background-color: white;}#sk-container-id-5 label.sk-toggleable__label {cursor: pointer;display: block;width: 100%;margin-bottom: 0;padding: 0.3em;box-sizing: border-box;text-align: center;}#sk-container-id-5 label.sk-toggleable__label-arrow:before {content: \"▸\";float: left;margin-right: 0.25em;color: #696969;}#sk-container-id-5 label.sk-toggleable__label-arrow:hover:before {color: black;}#sk-container-id-5 div.sk-estimator:hover label.sk-toggleable__label-arrow:before {color: black;}#sk-container-id-5 div.sk-toggleable__content {max-height: 0;max-width: 0;overflow: hidden;text-align: left;background-color: #f0f8ff;}#sk-container-id-5 div.sk-toggleable__content pre {margin: 0.2em;color: black;border-radius: 0.25em;background-color: #f0f8ff;}#sk-container-id-5 input.sk-toggleable__control:checked~div.sk-toggleable__content {max-height: 200px;max-width: 100%;overflow: auto;}#sk-container-id-5 input.sk-toggleable__control:checked~label.sk-toggleable__label-arrow:before {content: \"▾\";}#sk-container-id-5 div.sk-estimator input.sk-toggleable__control:checked~label.sk-toggleable__label {background-color: #d4ebff;}#sk-container-id-5 div.sk-label input.sk-toggleable__control:checked~label.sk-toggleable__label {background-color: #d4ebff;}#sk-container-id-5 input.sk-hidden--visually {border: 0;clip: rect(1px 1px 1px 1px);clip: rect(1px, 1px, 1px, 1px);height: 1px;margin: -1px;overflow: hidden;padding: 0;position: absolute;width: 1px;}#sk-container-id-5 div.sk-estimator {font-family: monospace;background-color: #f0f8ff;border: 1px dotted black;border-radius: 0.25em;box-sizing: border-box;margin-bottom: 0.5em;}#sk-container-id-5 div.sk-estimator:hover {background-color: #d4ebff;}#sk-container-id-5 div.sk-parallel-item::after {content: \"\";width: 100%;border-bottom: 1px solid gray;flex-grow: 1;}#sk-container-id-5 div.sk-label:hover label.sk-toggleable__label {background-color: #d4ebff;}#sk-container-id-5 div.sk-serial::before {content: \"\";position: absolute;border-left: 1px solid gray;box-sizing: border-box;top: 0;bottom: 0;left: 50%;z-index: 0;}#sk-container-id-5 div.sk-serial {display: flex;flex-direction: column;align-items: center;background-color: white;padding-right: 0.2em;padding-left: 0.2em;position: relative;}#sk-container-id-5 div.sk-item {position: relative;z-index: 1;}#sk-container-id-5 div.sk-parallel {display: flex;align-items: stretch;justify-content: center;background-color: white;position: relative;}#sk-container-id-5 div.sk-item::before, #sk-container-id-5 div.sk-parallel-item::before {content: \"\";position: absolute;border-left: 1px solid gray;box-sizing: border-box;top: 0;bottom: 0;left: 50%;z-index: -1;}#sk-container-id-5 div.sk-parallel-item {display: flex;flex-direction: column;z-index: 1;position: relative;background-color: white;}#sk-container-id-5 div.sk-parallel-item:first-child::after {align-self: flex-end;width: 50%;}#sk-container-id-5 div.sk-parallel-item:last-child::after {align-self: flex-start;width: 50%;}#sk-container-id-5 div.sk-parallel-item:only-child::after {width: 0;}#sk-container-id-5 div.sk-dashed-wrapped {border: 1px dashed gray;margin: 0 0.4em 0.5em 0.4em;box-sizing: border-box;padding-bottom: 0.4em;background-color: white;}#sk-container-id-5 div.sk-label label {font-family: monospace;font-weight: bold;display: inline-block;line-height: 1.2em;}#sk-container-id-5 div.sk-label-container {text-align: center;}#sk-container-id-5 div.sk-container {/* jupyter's `normalize.less` sets `[hidden] { display: none; }` but bootstrap.min.css set `[hidden] { display: none !important; }` so we also need the `!important` here to be able to override the default hidden behavior on the sphinx rendered scikit-learn.org. See: https://github.com/scikit-learn/scikit-learn/issues/21755 */display: inline-block !important;position: relative;}#sk-container-id-5 div.sk-text-repr-fallback {display: none;}</style><div id=\"sk-container-id-5\" class=\"sk-top-container\"><div class=\"sk-text-repr-fallback\"><pre>LogisticRegression()</pre><b>In a Jupyter environment, please rerun this cell to show the HTML representation or trust the notebook. <br />On GitHub, the HTML representation is unable to render, please try loading this page with nbviewer.org.</b></div><div class=\"sk-container\" hidden><div class=\"sk-item\"><div class=\"sk-estimator sk-toggleable\"><input class=\"sk-toggleable__control sk-hidden--visually\" id=\"sk-estimator-id-5\" type=\"checkbox\" checked><label for=\"sk-estimator-id-5\" class=\"sk-toggleable__label sk-toggleable__label-arrow\">LogisticRegression</label><div class=\"sk-toggleable__content\"><pre>LogisticRegression()</pre></div></div></div></div></div>"
     },
     "execution_count": 244,
     "metadata": {},
     "output_type": "execute_result"
    }
   ]
  },
  {
   "cell_type": "markdown",
   "source": [
    "С помощью обученных моделей сделайте предсказание на тестовых данных. Вычислите значение метрики roc-auc на тесте. \n",
    "\n",
    "Не забудьте, что для корректного вычисления roc-auc необходимо предсказывать не сами классы, а их вероятности.\n",
    "\n",
    "**Вопрос:** чему равен ROC-AUC логистической регрессии, округленный до десятых?"
   ],
   "metadata": {
    "id": "HZszTXSb110B"
   }
  },
  {
   "cell_type": "code",
   "execution_count": 245,
   "outputs": [],
   "source": [
    "pred_test = model.predict(X_test) # предсказание классов"
   ],
   "metadata": {
    "collapsed": false
   }
  },
  {
   "cell_type": "code",
   "source": [
    "pred_test[:5]"
   ],
   "metadata": {
    "id": "W9IUlgV011PP"
   },
   "execution_count": 246,
   "outputs": [
    {
     "data": {
      "text/plain": "array([0, 0, 0, 0, 0])"
     },
     "execution_count": 246,
     "metadata": {},
     "output_type": "execute_result"
    }
   ]
  },
  {
   "cell_type": "code",
   "execution_count": 247,
   "outputs": [
    {
     "data": {
      "text/plain": "0.869"
     },
     "execution_count": 247,
     "metadata": {},
     "output_type": "execute_result"
    }
   ],
   "source": [
    "accuracy_score(y_test, pred_test)"
   ],
   "metadata": {
    "collapsed": false
   }
  },
  {
   "cell_type": "code",
   "execution_count": 248,
   "outputs": [
    {
     "name": "stdout",
     "output_type": "stream",
     "text": [
      "ROC-AUC for Log Reg: 58.96%\n"
     ]
    }
   ],
   "source": [
    "# Assume y_prob is an array of predicted probabilities for the positive class\n",
    "roc_auc = roc_auc_score(y_test, pred_test)\n",
    "print(\"ROC-AUC for Log Reg: {:.2f}%\".format(roc_auc * 100))"
   ],
   "metadata": {
    "collapsed": false
   }
  },
  {
   "cell_type": "markdown",
   "source": [
    "## Бонус. Подбор гиперпараметров модели.\n",
    "\n",
    "У моделей машинного обучения есть гиперпараметры - это величины, которые задает человек до начала обучения моделей. Подбор гиперпараметров может значительно влиять на качество моделей.\n",
    "\n",
    "Про эту тему можно посмотреть [на Stepik](https://stepik.org/lesson/806516/step/4?unit=809692).\n",
    "\n",
    "Теперь ваша цель - максимально улучшить модели. Для этого:\n",
    "\n",
    "1) у логистической регрессии подберите гиперпараметр С (переберите 20 значений C в диапазоне от 0.1 до 10 с равным шагом).\n",
    "\n",
    "2) у метода ближайших соседей подберите число соседей n_neighbors (ищите значение гиперпараметра в диапазоне от 1 до 20 с шагом 1).\n",
    "\n",
    "Подбор гиперпараметров осуществляется только по тренировочным данным!"
   ],
   "metadata": {
    "id": "Bof-nFO-3pp7"
   }
  },
  {
   "cell_type": "markdown",
   "source": [
    "После подбора гиперпараметров обучите модели с найденными гиперпараметрами на тренировочных данных, сделайте предсказания на тесте и оцените их качество (roc_auc)."
   ],
   "metadata": {
    "id": "fOpaM-hq44uW"
   }
  },
  {
   "cell_type": "code",
   "source": [
    "# Define a grid of hyperparameters to search over\n",
    "param_grid = {\n",
    "    'penalty': ['l1', 'l2'],\n",
    "    'C': [0.001, 0.01, 0.1, 1, 10, 100],\n",
    "    'solver': ['liblinear', 'saga']\n",
    "}\n",
    "\n",
    "# Create a logistic regression model\n",
    "model2 = LogisticRegression()\n",
    "\n",
    "# Create a grid search object with the defined hyperparameter grid\n",
    "grid_search = GridSearchCV(model2, param_grid, cv=5, scoring='roc_auc')\n",
    "\n",
    "# Fit the grid search object to the training data\n",
    "best_lg = grid_search.fit(X_train, y_train)\n",
    "\n",
    "# Print the best hyperparameters and corresponding score\n",
    "print(\"Best hyperparameters: \", best_lg.best_params_)\n",
    "print(\"Best score: \", best_lg.best_score_)"
   ],
   "metadata": {
    "id": "hk9rxc993bRu"
   },
   "execution_count": 249,
   "outputs": [
    {
     "name": "stderr",
     "output_type": "stream",
     "text": [
      "C:\\Users\\HOME\\AppData\\Local\\Programs\\Python\\Python39\\lib\\site-packages\\sklearn\\linear_model\\_sag.py:350: ConvergenceWarning: The max_iter was reached which means the coef_ did not converge\n",
      "  warnings.warn(\n",
      "C:\\Users\\HOME\\AppData\\Local\\Programs\\Python\\Python39\\lib\\site-packages\\sklearn\\linear_model\\_sag.py:350: ConvergenceWarning: The max_iter was reached which means the coef_ did not converge\n",
      "  warnings.warn(\n",
      "C:\\Users\\HOME\\AppData\\Local\\Programs\\Python\\Python39\\lib\\site-packages\\sklearn\\linear_model\\_sag.py:350: ConvergenceWarning: The max_iter was reached which means the coef_ did not converge\n",
      "  warnings.warn(\n",
      "C:\\Users\\HOME\\AppData\\Local\\Programs\\Python\\Python39\\lib\\site-packages\\sklearn\\linear_model\\_sag.py:350: ConvergenceWarning: The max_iter was reached which means the coef_ did not converge\n",
      "  warnings.warn(\n",
      "C:\\Users\\HOME\\AppData\\Local\\Programs\\Python\\Python39\\lib\\site-packages\\sklearn\\linear_model\\_sag.py:350: ConvergenceWarning: The max_iter was reached which means the coef_ did not converge\n",
      "  warnings.warn(\n",
      "C:\\Users\\HOME\\AppData\\Local\\Programs\\Python\\Python39\\lib\\site-packages\\sklearn\\linear_model\\_sag.py:350: ConvergenceWarning: The max_iter was reached which means the coef_ did not converge\n",
      "  warnings.warn(\n",
      "C:\\Users\\HOME\\AppData\\Local\\Programs\\Python\\Python39\\lib\\site-packages\\sklearn\\linear_model\\_sag.py:350: ConvergenceWarning: The max_iter was reached which means the coef_ did not converge\n",
      "  warnings.warn(\n",
      "C:\\Users\\HOME\\AppData\\Local\\Programs\\Python\\Python39\\lib\\site-packages\\sklearn\\linear_model\\_sag.py:350: ConvergenceWarning: The max_iter was reached which means the coef_ did not converge\n",
      "  warnings.warn(\n",
      "C:\\Users\\HOME\\AppData\\Local\\Programs\\Python\\Python39\\lib\\site-packages\\sklearn\\linear_model\\_sag.py:350: ConvergenceWarning: The max_iter was reached which means the coef_ did not converge\n",
      "  warnings.warn(\n",
      "C:\\Users\\HOME\\AppData\\Local\\Programs\\Python\\Python39\\lib\\site-packages\\sklearn\\linear_model\\_sag.py:350: ConvergenceWarning: The max_iter was reached which means the coef_ did not converge\n",
      "  warnings.warn(\n",
      "C:\\Users\\HOME\\AppData\\Local\\Programs\\Python\\Python39\\lib\\site-packages\\sklearn\\linear_model\\_sag.py:350: ConvergenceWarning: The max_iter was reached which means the coef_ did not converge\n",
      "  warnings.warn(\n",
      "C:\\Users\\HOME\\AppData\\Local\\Programs\\Python\\Python39\\lib\\site-packages\\sklearn\\linear_model\\_sag.py:350: ConvergenceWarning: The max_iter was reached which means the coef_ did not converge\n",
      "  warnings.warn(\n",
      "C:\\Users\\HOME\\AppData\\Local\\Programs\\Python\\Python39\\lib\\site-packages\\sklearn\\linear_model\\_sag.py:350: ConvergenceWarning: The max_iter was reached which means the coef_ did not converge\n",
      "  warnings.warn(\n",
      "C:\\Users\\HOME\\AppData\\Local\\Programs\\Python\\Python39\\lib\\site-packages\\sklearn\\linear_model\\_sag.py:350: ConvergenceWarning: The max_iter was reached which means the coef_ did not converge\n",
      "  warnings.warn(\n",
      "C:\\Users\\HOME\\AppData\\Local\\Programs\\Python\\Python39\\lib\\site-packages\\sklearn\\linear_model\\_sag.py:350: ConvergenceWarning: The max_iter was reached which means the coef_ did not converge\n",
      "  warnings.warn(\n",
      "C:\\Users\\HOME\\AppData\\Local\\Programs\\Python\\Python39\\lib\\site-packages\\sklearn\\linear_model\\_sag.py:350: ConvergenceWarning: The max_iter was reached which means the coef_ did not converge\n",
      "  warnings.warn(\n",
      "C:\\Users\\HOME\\AppData\\Local\\Programs\\Python\\Python39\\lib\\site-packages\\sklearn\\linear_model\\_sag.py:350: ConvergenceWarning: The max_iter was reached which means the coef_ did not converge\n",
      "  warnings.warn(\n",
      "C:\\Users\\HOME\\AppData\\Local\\Programs\\Python\\Python39\\lib\\site-packages\\sklearn\\linear_model\\_sag.py:350: ConvergenceWarning: The max_iter was reached which means the coef_ did not converge\n",
      "  warnings.warn(\n",
      "C:\\Users\\HOME\\AppData\\Local\\Programs\\Python\\Python39\\lib\\site-packages\\sklearn\\linear_model\\_sag.py:350: ConvergenceWarning: The max_iter was reached which means the coef_ did not converge\n",
      "  warnings.warn(\n",
      "C:\\Users\\HOME\\AppData\\Local\\Programs\\Python\\Python39\\lib\\site-packages\\sklearn\\linear_model\\_sag.py:350: ConvergenceWarning: The max_iter was reached which means the coef_ did not converge\n",
      "  warnings.warn(\n",
      "C:\\Users\\HOME\\AppData\\Local\\Programs\\Python\\Python39\\lib\\site-packages\\sklearn\\linear_model\\_sag.py:350: ConvergenceWarning: The max_iter was reached which means the coef_ did not converge\n",
      "  warnings.warn(\n",
      "C:\\Users\\HOME\\AppData\\Local\\Programs\\Python\\Python39\\lib\\site-packages\\sklearn\\linear_model\\_sag.py:350: ConvergenceWarning: The max_iter was reached which means the coef_ did not converge\n",
      "  warnings.warn(\n",
      "C:\\Users\\HOME\\AppData\\Local\\Programs\\Python\\Python39\\lib\\site-packages\\sklearn\\linear_model\\_sag.py:350: ConvergenceWarning: The max_iter was reached which means the coef_ did not converge\n",
      "  warnings.warn(\n",
      "C:\\Users\\HOME\\AppData\\Local\\Programs\\Python\\Python39\\lib\\site-packages\\sklearn\\linear_model\\_sag.py:350: ConvergenceWarning: The max_iter was reached which means the coef_ did not converge\n",
      "  warnings.warn(\n",
      "C:\\Users\\HOME\\AppData\\Local\\Programs\\Python\\Python39\\lib\\site-packages\\sklearn\\linear_model\\_sag.py:350: ConvergenceWarning: The max_iter was reached which means the coef_ did not converge\n",
      "  warnings.warn(\n",
      "C:\\Users\\HOME\\AppData\\Local\\Programs\\Python\\Python39\\lib\\site-packages\\sklearn\\linear_model\\_sag.py:350: ConvergenceWarning: The max_iter was reached which means the coef_ did not converge\n",
      "  warnings.warn(\n",
      "C:\\Users\\HOME\\AppData\\Local\\Programs\\Python\\Python39\\lib\\site-packages\\sklearn\\linear_model\\_sag.py:350: ConvergenceWarning: The max_iter was reached which means the coef_ did not converge\n",
      "  warnings.warn(\n",
      "C:\\Users\\HOME\\AppData\\Local\\Programs\\Python\\Python39\\lib\\site-packages\\sklearn\\linear_model\\_sag.py:350: ConvergenceWarning: The max_iter was reached which means the coef_ did not converge\n",
      "  warnings.warn(\n",
      "C:\\Users\\HOME\\AppData\\Local\\Programs\\Python\\Python39\\lib\\site-packages\\sklearn\\linear_model\\_sag.py:350: ConvergenceWarning: The max_iter was reached which means the coef_ did not converge\n",
      "  warnings.warn(\n",
      "C:\\Users\\HOME\\AppData\\Local\\Programs\\Python\\Python39\\lib\\site-packages\\sklearn\\linear_model\\_sag.py:350: ConvergenceWarning: The max_iter was reached which means the coef_ did not converge\n",
      "  warnings.warn(\n",
      "C:\\Users\\HOME\\AppData\\Local\\Programs\\Python\\Python39\\lib\\site-packages\\sklearn\\linear_model\\_sag.py:350: ConvergenceWarning: The max_iter was reached which means the coef_ did not converge\n",
      "  warnings.warn(\n",
      "C:\\Users\\HOME\\AppData\\Local\\Programs\\Python\\Python39\\lib\\site-packages\\sklearn\\linear_model\\_sag.py:350: ConvergenceWarning: The max_iter was reached which means the coef_ did not converge\n",
      "  warnings.warn(\n"
     ]
    },
    {
     "name": "stdout",
     "output_type": "stream",
     "text": [
      "Best hyperparameters:  {'C': 0.1, 'penalty': 'l1', 'solver': 'liblinear'}\n",
      "Best score:  0.808020685012643\n"
     ]
    }
   ]
  },
  {
   "cell_type": "markdown",
   "source": [
    "Какая модель справилась с решением задачи лучше всего по метрике roc_auc?"
   ],
   "metadata": {
    "id": "LJdQGP5B6UuT"
   }
  },
  {
   "cell_type": "code",
   "execution_count": 257,
   "outputs": [
    {
     "name": "stdout",
     "output_type": "stream",
     "text": [
      "Accuracy for Log Reg: 87.00%\n",
      "ROC-AUC for Log Reg: 57.16%\n"
     ]
    }
   ],
   "source": [
    "# Make predictions on the test data\n",
    "y_pred2 = best_lg.predict(X_test) # предсказание классов\n",
    "# Calculate ROC AUC score on the test data\n",
    "accuracy_lg2 = accuracy_score(y_test, y_pred2)\n",
    "roc_auc2 = roc_auc_score(y_test, y_pred2)\n",
    "# Print the ROC AUC score\n",
    "print(\"Accuracy for Log Reg with GridSearch: {:.2f}%\".format(accuracy_lg2 * 100))\n",
    "print(\"ROC-AUC for Log Reg with GridSearch: {:.2f}%\".format(roc_auc2 * 100))"
   ],
   "metadata": {
    "collapsed": false
   }
  },
  {
   "cell_type": "markdown",
   "source": [
    "### 2 - Метод ближайших соседей"
   ],
   "metadata": {
    "collapsed": false
   }
  },
  {
   "cell_type": "code",
   "execution_count": 263,
   "outputs": [
    {
     "name": "stdout",
     "output_type": "stream",
     "text": [
      "Accuracy for KNN w/o GridSearch: 89.70%\n",
      "ROC-AUC for KNN w/o GridSearch: 66.78%\n"
     ]
    }
   ],
   "source": [
    "model3 = KNeighborsClassifier()\n",
    "model3.fit(X_train, y_train)\n",
    "\n",
    "# Make predictions on the test data\n",
    "pred_test3 = model3.predict(X_test)\n",
    "\n",
    "accuracy_knn = accuracy_score(y_test, pred_test3)\n",
    "roc_auc_knn3 = roc_auc_score(y_test, pred_test3)\n",
    "\n",
    "print(\"Accuracy for KNN w/o GridSearch: {:.2f}%\".format(accuracy_knn * 100))\n",
    "print(\"ROC-AUC for KNN w/o GridSearch: {:.2f}%\".format(roc_auc_knn3 * 100))"
   ],
   "metadata": {
    "collapsed": false
   }
  },
  {
   "cell_type": "markdown",
   "source": [
    "Улучшим результаты модели по методу ближайших соседей путем подбора гиперпараметров."
   ],
   "metadata": {
    "collapsed": false
   }
  },
  {
   "cell_type": "code",
   "execution_count": 260,
   "outputs": [
    {
     "name": "stdout",
     "output_type": "stream",
     "text": [
      "Best hyperparameters:  {'algorithm': 'auto', 'leaf_size': 10, 'n_neighbors': 20, 'p': 1, 'weights': 'distance'}\n",
      "Best score:  0.8610129507622283\n",
      "KNN accuracy on test data: 88.00%\n",
      "KNN ROC AUC score on test data: 56.81%\n",
      "CPU times: total: 3min 51s\n",
      "Wall time: 2min 47s\n"
     ]
    }
   ],
   "source": [
    "%%time\n",
    "# Define a grid of hyperparameters to search over\n",
    "param_grid = {\n",
    "    'n_neighbors': range(1, 21),\n",
    "    'weights': ['uniform', 'distance'],\n",
    "    'algorithm': ['auto', 'ball_tree', 'kd_tree', 'brute'],\n",
    "    'leaf_size': [10, 20, 30, 40, 50],\n",
    "    'p': [1, 2]\n",
    "}\n",
    "\n",
    "# Create a KNN model\n",
    "model4 = KNeighborsClassifier()\n",
    "\n",
    "# Create a grid search object with the defined hyperparameter grid\n",
    "grid_search = GridSearchCV(model4, param_grid, cv=5, scoring='roc_auc')\n",
    "\n",
    "# Fit the grid search object to the training data\n",
    "grid_search.fit(X_train, y_train)\n",
    "\n",
    "# Print the best hyperparameters and corresponding score\n",
    "print(\"Best hyperparameters: \", grid_search.best_params_)\n",
    "print(\"Best score: \", grid_search.best_score_)\n",
    "\n",
    "# Create a KNN model with the best hyperparameters\n",
    "best_knn = KNeighborsClassifier(n_neighbors=grid_search.best_params_['n_neighbors'])\n",
    "\n",
    "# Fit the model to the training data\n",
    "best_knn.fit(X_train, y_train)"
   ],
   "metadata": {
    "collapsed": false
   }
  },
  {
   "cell_type": "code",
   "execution_count": 261,
   "outputs": [
    {
     "name": "stdout",
     "output_type": "stream",
     "text": [
      "KNN accuracy on test data: 88.00%\n",
      "KNN ROC AUC score on test data: 56.81%\n"
     ]
    }
   ],
   "source": [
    "# Make predictions on the test data\n",
    "y_pred = best_knn.predict(X_test)\n",
    "\n",
    "# Calculate accuracy and ROC AUC score on the test data\n",
    "accuracy_knn4 = accuracy_score(y_test, y_pred)\n",
    "roc_auc_knn4 = roc_auc_score(y_test, y_pred)\n",
    "\n",
    "# Print the performance metrics\n",
    "print(\"KNN accuracy on test data: {:.2f}%\".format(accuracy_knn4 * 100))\n",
    "print(\"KNN ROC AUC score on test data: {:.2f}%\".format(roc_auc_knn4 * 100))"
   ],
   "metadata": {
    "collapsed": false
   }
  },
  {
   "cell_type": "markdown",
   "source": [
    "### ROC-AUC кривая для наилучшей модели"
   ],
   "metadata": {
    "id": "9QqqeHyP6Y4o"
   }
  },
  {
   "cell_type": "code",
   "execution_count": 267,
   "outputs": [
    {
     "name": "stdout",
     "output_type": "stream",
     "text": [
      "ROC-AUC for Log Reg w/o GridSearch: 58.96%\n",
      "ROC-AUC for Log Reg with GridSearch: 57.16%\n",
      "ROC-AUC for KNN w/o GridSearch: 66.78%\n",
      "ROC AUC for KNN with GridSearch: 56.81%\n"
     ]
    }
   ],
   "source": [
    "print(\"ROC-AUC for Log Reg w/o GridSearch: {:.2f}%\".format(roc_auc * 100))\n",
    "print(\"ROC-AUC for Log Reg with GridSearch: {:.2f}%\".format(roc_auc2 * 100))\n",
    "print(\"ROC-AUC for KNN w/o GridSearch: {:.2f}%\".format(roc_auc_knn3 * 100))\n",
    "print(\"ROC AUC for KNN with GridSearch: {:.2f}%\".format(roc_auc_knn4 * 100))"
   ],
   "metadata": {
    "collapsed": false
   }
  },
  {
   "cell_type": "markdown",
   "source": [
    "### *Conclusion*: Based on the ROC-AUC scores you have provided, the KNN model without GridSearch has the highest ROC-AUC score of 66.78%, making it the best performing model out of the four. The second best model is Logistic Regression without a GridSearch.\n",
    "\n",
    "It's important to note that the performance of a model can also depend on other factors such as the nature of the data, the problem being solved, and the evaluation metrics being used. Therefore, it's a good practice to evaluate and compare the performance of multiple models using multiple evaluation metrics before making a final decision."
   ],
   "metadata": {
    "collapsed": false
   }
  },
  {
   "cell_type": "code",
   "source": [
    "pred_test3 = model3.predict_proba(X_test)[:, 1]\n",
    "fpr, tpr, thresholds = metrics.roc_curve(y_test, pred_test3)\n",
    "\n",
    "plt.figure()\n",
    "\n",
    "# ROC-кривая случайной модели (выглядит как прямая)\n",
    "plt.plot([0, 1], [0, 1], linestyle='--')\n",
    "plt.plot(fpr, tpr)\n",
    "\n",
    "# < применим функции plt.xlim() и plt.ylim(), чтобы\n",
    "#   установим границы осей от 0 до 1 >\n",
    "plt.xlim([0.0, 1.0])\n",
    "plt.ylim([0.0, 1.0])\n",
    "\n",
    "# < применим функции plt.xlabel() и plt.ylabel(), чтобы\n",
    "#   подпишем оси \"False Positive Rate\" и \"True Positive Rate\" >\n",
    "plt.xlabel('False Positive Rate')\n",
    "plt.ylabel('True Positive Rate')\n",
    "\n",
    "# добавим к графику заголовок \"ROC-кривая\" функцией plt.title() >\n",
    "plt.title('ROC-AUC for KNN w/o GridSearch (test data)')\n",
    "plt.show();"
   ],
   "metadata": {
    "id": "xzrjnbQB6YMA"
   },
   "execution_count": 270,
   "outputs": [
    {
     "data": {
      "text/plain": "<Figure size 640x480 with 1 Axes>",
      "image/png": "[encoded data removed]"
     },
     "metadata": {},
     "output_type": "display_data"
    }
   ]
  },
  {
   "cell_type": "markdown",
   "source": [
    "Сравните между собой две лучшие модели:\n",
    "\n",
    "1) насколько сильно отличается качество предсказания на тестовых данных?\n",
    "(вычислите разность значений roc-auc на тестовых данных)\n",
    "\n",
    "2) постройте гистограмму важности признаков для логистической регрессии. Какие три признака наиболее важны для модели?"
   ],
   "metadata": {
    "id": "mKaWSPa_6vvk"
   }
  },
  {
   "cell_type": "code",
   "source": [
    "# Print the ROC AUC scores for each model and their difference\n",
    "print(\"ROC-AUC for Log Reg w/o GridSearch on test data: \", roc_auc)\n",
    "print(\"ROC-AUC for KNN w/o GridSearch on test data: \", roc_auc_knn3)\n",
    "print()\n",
    "print(\"ROC AUC score difference: \", roc_auc - roc_auc_knn3)"
   ],
   "metadata": {
    "id": "cc0q1_XL7QT0"
   },
   "execution_count": 272,
   "outputs": [
    {
     "name": "stdout",
     "output_type": "stream",
     "text": [
      "ROC-AUC for Log Reg w/o GridSearch on test data:  0.5896309912854031\n",
      "ROC-AUC for KNN w/o GridSearch on test data:  0.6677900326797386\n",
      "\n",
      "ROC AUC score difference:  -0.0781590413943355\n"
     ]
    }
   ]
  },
  {
   "cell_type": "markdown",
   "source": [
    "### Так можно построить гистограмму про важность признаков"
   ],
   "metadata": {
    "id": "ZgRif5m1jISs"
   }
  },
  {
   "cell_type": "code",
   "execution_count": 274,
   "outputs": [
    {
     "data": {
      "text/plain": "<Figure size 640x480 with 1 Axes>",
      "image/png": "[encoded data removed]"
     },
     "metadata": {},
     "output_type": "display_data"
    },
    {
     "name": "stdout",
     "output_type": "stream",
     "text": [
      "Top 3 most important features for logistic regression:\n",
      "Customer service calls : 0.5839524020653911\n",
      "International plan : 0.5520599475969162\n",
      "Total day charge : 0.29000533100933795\n"
     ]
    }
   ],
   "source": [
    "# Get the feature importance coefficients for logistic regression\n",
    "coef = best_lg.best_estimator_.coef_[0]\n",
    "\n",
    "# Get the feature names\n",
    "feature_names = X_train.columns\n",
    "\n",
    "# Plot the feature importance as a histogram\n",
    "plt.hist(coef, bins=len(feature_names))\n",
    "plt.xticks(rotation=90)\n",
    "plt.xlabel(\"Coefficient\")\n",
    "plt.ylabel(\"Frequency\")\n",
    "plt.title(\"Feature Importance for Logistic Regression\")\n",
    "plt.show()\n",
    "\n",
    "# Print the top 3 most important features\n",
    "top_features = sorted(zip(coef, feature_names), reverse=True)[:3]\n",
    "print(\"Top 3 most important features for logistic regression:\")\n",
    "for coef, feature in top_features:\n",
    "    print(feature, \":\", coef)"
   ],
   "metadata": {
    "collapsed": false
   }
  },
  {
   "cell_type": "code",
   "execution_count": 279,
   "outputs": [
    {
     "data": {
      "text/plain": "<Figure size 640x480 with 1 Axes>",
      "image/png": "[encoded data removed]"
     },
     "metadata": {},
     "output_type": "display_data"
    },
    {
     "name": "stdout",
     "output_type": "stream",
     "text": [
      "Top 3 most important features for KNN:\n",
      "Customer service calls : 0.014000000000000012\n",
      "International plan : 0.01100000000000001\n",
      "Total day minutes : 0.0050000000000000044\n"
     ]
    }
   ],
   "source": [
    "# Get the baseline performance of the model\n",
    "baseline_score = model3.score(X_test, y_test)\n",
    "\n",
    "# Get the feature names\n",
    "feature_names = X_train.columns.tolist()\n",
    "\n",
    "# Compute the feature importance scores by removing one feature at a time and measuring the drop in performance\n",
    "importances = []\n",
    "for i in range(len(feature_names)):\n",
    "    # Remove the i-th feature from the data\n",
    "    X_train_reduced = X_train.drop([feature_names[i]], axis=1)\n",
    "    X_test_reduced = X_test.drop([feature_names[i]], axis=1)\n",
    "\n",
    "    # Fit the model to the reduced data and compute the performance drop\n",
    "    model_reduced = KNeighborsClassifier(n_neighbors=3)\n",
    "    model_reduced.fit(X_train_reduced, y_train)\n",
    "    score_reduced = model_reduced.score(X_test_reduced, y_test)\n",
    "    importance = baseline_score - score_reduced\n",
    "\n",
    "    importances.append(importance)\n",
    "\n",
    "# Plot the feature importance as a histogram\n",
    "plt.bar(feature_names, importances)\n",
    "plt.xticks(rotation=90)\n",
    "plt.xlabel(\"Feature\")\n",
    "plt.ylabel(\"Importance\")\n",
    "plt.title(\"Feature Importance for KNN\")\n",
    "plt.show()\n",
    "\n",
    "# Print the top 3 most important features\n",
    "top_features = sorted(zip(importances, feature_names), reverse=True)[:3]\n",
    "print(\"Top 3 most important features for KNN:\")\n",
    "for importance, feature in top_features:\n",
    "    print(feature, \":\", importance)"
   ],
   "metadata": {
    "collapsed": false
   }
  },
  {
   "cell_type": "code",
   "source": [
    "# features = X_train.columns\n",
    "# importances = np.abs(best_lg.coef_[0])\n",
    "# indices = np.argsort(importances)\n",
    "#\n",
    "# plt.title('Feature Importances of LogisticRegression')\n",
    "# plt.barh(range(len(indices)), importances[indices], color='b', align='center')\n",
    "# plt.yticks(range(len(indices)), [features[i] for i in indices])\n",
    "# plt.xlabel('Relative Importance')\n",
    "# plt.show()"
   ],
   "metadata": {
    "id": "lz_y6FjJ7Kol"
   },
   "execution_count": 220,
   "outputs": []
  },
  {
   "cell_type": "markdown",
   "source": [
    "Сделайте выводы:\n",
    "\n",
    "1) Являются ли данные сбалансированными? Что это означает?\n",
    "\n",
    "2) Какая модель после подбора гиперпараметров лучше всего решает задачу с точки зрения метрики roc-auc?"
   ],
   "metadata": {
    "id": "beRXM0lT8MUp"
   }
  },
  {
   "cell_type": "markdown",
   "source": [
    "### Интерпретация модели"
   ],
   "metadata": {
    "collapsed": false
   }
  },
  {
   "cell_type": "markdown",
   "source": [
    "The KNN model in scikit-learn does not have coefficients or an intercept like the logistic regression model. Instead, the KNN algorithm assigns weights to the k-nearest neighbors of a given sample based on their distances, and the target label for the sample is determined by a majority vote among these neighbors.\n",
    "\n",
    "If we want to examine the weights of the KNN model in scikit-learn, you can look at the distance metric and/or the number of neighbors used for classification. These hyperparameters can be adjusted in the KNeighborsClassifier() function. For example, you can print the number of neighbors used for classification with the following code:"
   ],
   "metadata": {
    "collapsed": false
   }
  },
  {
   "cell_type": "code",
   "execution_count": 292,
   "outputs": [
    {
     "data": {
      "text/plain": "5"
     },
     "execution_count": 292,
     "metadata": {},
     "output_type": "execute_result"
    }
   ],
   "source": [
    "model3.n_neighbors"
   ],
   "metadata": {
    "collapsed": false
   }
  },
  {
   "cell_type": "markdown",
   "source": [
    "We can also print the distance metric used by the KNN model with the following code:"
   ],
   "metadata": {
    "collapsed": false
   }
  },
  {
   "cell_type": "code",
   "execution_count": 293,
   "outputs": [
    {
     "data": {
      "text/plain": "'euclidean'"
     },
     "execution_count": 293,
     "metadata": {},
     "output_type": "execute_result"
    }
   ],
   "source": [
    "model3.effective_metric_"
   ],
   "metadata": {
    "collapsed": false
   }
  },
  {
   "cell_type": "code",
   "execution_count": 294,
   "outputs": [
    {
     "name": "stdout",
     "output_type": "stream",
     "text": [
      "   Distance 1  Distance 2  Distance 3  Distance 4  Distance 5  Index 1  \\\n",
      "0    2.607084    2.820620    2.927821    2.946168    2.984492     1128   \n",
      "1    1.549685    1.698218    1.871226    1.941216    1.973087      654   \n",
      "2    2.079316    2.228164    2.386796    2.436797    2.442540     1641   \n",
      "3    2.204903    2.279131    2.332604    2.343625    2.358274     1694   \n",
      "4    3.195811    3.472745    3.647690    3.769036    3.786255     2325   \n",
      "\n",
      "   Index 2  Index 3  Index 4  Index 5  Predicted Label  \n",
      "0      945      863     2291     2176              863  \n",
      "1     1095     2162     1308      727              654  \n",
      "2      533       46     1413     1387               46  \n",
      "3     1074     1308      640     2279              640  \n",
      "4       81     1760      974     1424               81  \n"
     ]
    }
   ],
   "source": [
    "# Get the distances and indices of the k-nearest neighbors for each sample in the test set\n",
    "distances, indices = model3.kneighbors(X_test)\n",
    "\n",
    "# Create a DataFrame that contains the distances and indices of the k-nearest neighbors for each sample\n",
    "knn_df = pd.DataFrame(distances, columns=[f\"Distance {i+1}\" for i in range(model3.n_neighbors)])\n",
    "knn_df = pd.concat([knn_df, pd.DataFrame(indices, columns=[f\"Index {i+1}\" for i in range(model3.n_neighbors)])], axis=1)\n",
    "\n",
    "# Calculate the majority vote for each sample\n",
    "knn_df[\"Predicted Label\"] = knn_df.iloc[:, -model3.n_neighbors:].mode(axis=1)[0]\n",
    "\n",
    "# Print the DataFrame\n",
    "print(knn_df.head())"
   ],
   "metadata": {
    "collapsed": false
   }
  },
  {
   "cell_type": "markdown",
   "source": [
    "#### The table contains information about the k-nearest neighbors for each sample and their distances to the sample. The predicted label for each sample is calculated based on the majority vote among these neighbors."
   ],
   "metadata": {
    "collapsed": false
   }
  },
  {
   "cell_type": "markdown",
   "source": [
    "### Confusion Matrix"
   ],
   "metadata": {
    "collapsed": false
   }
  },
  {
   "cell_type": "code",
   "execution_count": 295,
   "outputs": [
    {
     "name": "stdout",
     "output_type": "stream",
     "text": [
      "Confusion matrix for KNN:\n",
      " [[849  15]\n",
      " [ 88  48]]\n"
     ]
    }
   ],
   "source": [
    "# Make predictions on the test data\n",
    "y_pred = model3.predict(X_test)\n",
    "\n",
    "# Build the confusion matrix\n",
    "cm = confusion_matrix(y_test, y_pred)\n",
    "\n",
    "# Print the confusion matrix\n",
    "print(\"Confusion matrix for KNN:\\n\", cm)"
   ],
   "metadata": {
    "collapsed": false
   }
  },
  {
   "cell_type": "markdown",
   "source": [
    "#### The confusion matrix shows the number of true positives (TP), true negatives (TN), false positives (FP), and false negatives (FN) for the KNN model's predictions on the test data.\n",
    "\n",
    "In this case, the confusion matrix has the following structure:\n",
    "\n",
    "Predicted No Churn\tPredicted   Churn\n",
    "Actual No Churn\t    TN = 849\tFP = 15\n",
    "Actual Churn\t    FN = 88\t    TP = 48\n",
    "\n",
    "* True positives (TP): The number of correctly classified positive samples (Churn customers).\n",
    "* True negatives (TN): The number of correctly classified negative samples (Non-Churn customers).\n",
    "* False positives (FP): The number of non-Churn customers that were classified as Churn customers.\n",
    "* False negatives (FN): The number of Churn customers that were classified as non-Churn customers.\n",
    "\n",
    "In this case, we can see that the KNN model correctly classified 849 non-Churn customers as such, and 48 Churn customers as such. However, it misclassified 15 non-Churn customers as Churn customers (FP) and 88 Churn customers as non-Churn customers (FN).\n",
    "\n",
    "#### In summary, the KNN model achieved an overall accuracy of (849 + 48) / (849 + 15 + 88 + 48) = 89.81%, but it had relatively high rates of false positives and false negatives."
   ],
   "metadata": {
    "collapsed": false
   }
  },
  {
   "cell_type": "code",
   "execution_count": 301,
   "outputs": [],
   "source": [
    "# Save the model to a file\n",
    "with open('C:\\\\Users\\\\HOME\\\\PycharmProjects\\\\nlp_upgrade\\\\Модуль 1. Введение в машинное обучение\\\\best_knn.h5', 'wb') as f:\n",
    "    pickle.dump(model3, f)"
   ],
   "metadata": {
    "collapsed": false
   }
  },
  {
   "cell_type": "code",
   "execution_count": 302,
   "outputs": [],
   "source": [
    "# Load the saved model from a file\n",
    "with open('C:\\\\Users\\\\HOME\\\\PycharmProjects\\\\nlp_upgrade\\\\Модуль 1. Введение в машинное обучение\\\\best_knn.h5', 'rb') as f:\n",
    "    best_knn = pickle.load(f)"
   ],
   "metadata": {
    "collapsed": false
   }
  }
 ]
}
